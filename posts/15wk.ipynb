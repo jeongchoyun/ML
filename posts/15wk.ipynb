{
 "cells": [
  {
   "cell_type": "raw",
   "id": "3bdea0ca-5ff5-4e16-9f94-43ce4a2a723f",
   "metadata": {},
   "source": [
    "---\n",
    "title: \"15wk: 예측 - XGBoost-earlystopping\"\n",
    "author: \"정초윤\"\n",
    "date: \"05/29/2024\"\n",
    "---"
   ]
  },
  {
   "cell_type": "code",
   "execution_count": 2,
   "id": "2ef4ae5e-da32-44b9-9cb4-856624bdbfd4",
   "metadata": {},
   "outputs": [],
   "source": [
    "import pandas as pd\n",
    "import numpy as np\n",
    "import matplotlib.pyplot as plt\n",
    "from sklearn.metrics import precision_score, accuracy_score, recall_score, f1_score, roc_auc_score, roc_curve, auc\n",
    "\n",
    "from sklearn.preprocessing import LabelEncoder\n",
    "from sklearn.impute import SimpleImputer\n",
    "from sklearn.preprocessing import StandardScaler, OneHotEncoder\n",
    "from sklearn.model_selection import StratifiedKFold\n",
    "from sklearn.compose import ColumnTransformer\n",
    "from sklearn.model_selection import train_test_split, cross_val_score, cross_validate, cross_val_predict\n",
    "from sklearn.utils import resample\n",
    "from sklearn.pipeline import Pipeline\n",
    "from sklearn.model_selection import GridSearchCV\n",
    "from sklearn.model_selection import RandomizedSearchCV\n",
    "import scipy.stats\n",
    "from skopt import BayesSearchCV\n",
    "from skopt.space import Real, Integer, Categorical\n",
    "from sklearn.model_selection import train_test_split\n",
    "\n",
    "from sklearn.linear_model import LogisticRegression\n",
    "from sklearn.ensemble import RandomForestClassifier\n",
    "from sklearn.svm import SVC\n",
    "from xgboost import XGBClassifier\n",
    "from sklearn.neural_network import MLPClassifier\n",
    "\n",
    "import time"
   ]
  },
  {
   "cell_type": "markdown",
   "id": "9d797f93-3a61-41c1-a7a4-df9d5caf7717",
   "metadata": {},
   "source": [
    "# Data"
   ]
  },
  {
   "cell_type": "markdown",
   "id": "09d81592-6e2c-4eac-ae93-5ea4d5ea4050",
   "metadata": {},
   "source": [
    "- 데이터 출처\n",
    "  - https://www.kaggle.com/datasets/fedesoriano/stroke-prediction-dataset/data"
   ]
  },
  {
   "cell_type": "code",
   "execution_count": 3,
   "id": "20b41e7f-1bf4-435e-8f87-e4e428bcbe44",
   "metadata": {},
   "outputs": [
    {
     "data": {
      "text/html": [
       "<div>\n",
       "<style scoped>\n",
       "    .dataframe tbody tr th:only-of-type {\n",
       "        vertical-align: middle;\n",
       "    }\n",
       "\n",
       "    .dataframe tbody tr th {\n",
       "        vertical-align: top;\n",
       "    }\n",
       "\n",
       "    .dataframe thead th {\n",
       "        text-align: right;\n",
       "    }\n",
       "</style>\n",
       "<table border=\"1\" class=\"dataframe\">\n",
       "  <thead>\n",
       "    <tr style=\"text-align: right;\">\n",
       "      <th></th>\n",
       "      <th>gender</th>\n",
       "      <th>age</th>\n",
       "      <th>hypertension</th>\n",
       "      <th>heart_disease</th>\n",
       "      <th>ever_married</th>\n",
       "      <th>work_type</th>\n",
       "      <th>Residence_type</th>\n",
       "      <th>avg_glucose_level</th>\n",
       "      <th>bmi</th>\n",
       "      <th>smoking_status</th>\n",
       "      <th>stroke</th>\n",
       "    </tr>\n",
       "  </thead>\n",
       "  <tbody>\n",
       "    <tr>\n",
       "      <th>0</th>\n",
       "      <td>Male</td>\n",
       "      <td>67.0</td>\n",
       "      <td>No</td>\n",
       "      <td>Yes</td>\n",
       "      <td>Yes</td>\n",
       "      <td>Private</td>\n",
       "      <td>Urban</td>\n",
       "      <td>228.69</td>\n",
       "      <td>36.6</td>\n",
       "      <td>formerly smoked</td>\n",
       "      <td>Yes</td>\n",
       "    </tr>\n",
       "    <tr>\n",
       "      <th>1</th>\n",
       "      <td>Female</td>\n",
       "      <td>61.0</td>\n",
       "      <td>No</td>\n",
       "      <td>No</td>\n",
       "      <td>Yes</td>\n",
       "      <td>Self-employed</td>\n",
       "      <td>Rural</td>\n",
       "      <td>202.21</td>\n",
       "      <td>NaN</td>\n",
       "      <td>never smoked</td>\n",
       "      <td>Yes</td>\n",
       "    </tr>\n",
       "    <tr>\n",
       "      <th>2</th>\n",
       "      <td>Male</td>\n",
       "      <td>80.0</td>\n",
       "      <td>No</td>\n",
       "      <td>Yes</td>\n",
       "      <td>Yes</td>\n",
       "      <td>Private</td>\n",
       "      <td>Rural</td>\n",
       "      <td>105.92</td>\n",
       "      <td>32.5</td>\n",
       "      <td>never smoked</td>\n",
       "      <td>Yes</td>\n",
       "    </tr>\n",
       "    <tr>\n",
       "      <th>3</th>\n",
       "      <td>Female</td>\n",
       "      <td>49.0</td>\n",
       "      <td>No</td>\n",
       "      <td>No</td>\n",
       "      <td>Yes</td>\n",
       "      <td>Private</td>\n",
       "      <td>Urban</td>\n",
       "      <td>171.23</td>\n",
       "      <td>34.4</td>\n",
       "      <td>smokes</td>\n",
       "      <td>Yes</td>\n",
       "    </tr>\n",
       "    <tr>\n",
       "      <th>4</th>\n",
       "      <td>Female</td>\n",
       "      <td>79.0</td>\n",
       "      <td>Yes</td>\n",
       "      <td>No</td>\n",
       "      <td>Yes</td>\n",
       "      <td>Self-employed</td>\n",
       "      <td>Rural</td>\n",
       "      <td>174.12</td>\n",
       "      <td>24.0</td>\n",
       "      <td>never smoked</td>\n",
       "      <td>Yes</td>\n",
       "    </tr>\n",
       "  </tbody>\n",
       "</table>\n",
       "</div>"
      ],
      "text/plain": [
       "   gender   age hypertension heart_disease ever_married      work_type  \\\n",
       "0    Male  67.0           No           Yes          Yes        Private   \n",
       "1  Female  61.0           No            No          Yes  Self-employed   \n",
       "2    Male  80.0           No           Yes          Yes        Private   \n",
       "3  Female  49.0           No            No          Yes        Private   \n",
       "4  Female  79.0          Yes            No          Yes  Self-employed   \n",
       "\n",
       "  Residence_type  avg_glucose_level   bmi   smoking_status stroke  \n",
       "0          Urban             228.69  36.6  formerly smoked    Yes  \n",
       "1          Rural             202.21   NaN     never smoked    Yes  \n",
       "2          Rural             105.92  32.5     never smoked    Yes  \n",
       "3          Urban             171.23  34.4           smokes    Yes  \n",
       "4          Rural             174.12  24.0     never smoked    Yes  "
      ]
     },
     "execution_count": 3,
     "metadata": {},
     "output_type": "execute_result"
    }
   ],
   "source": [
    "data = pd.read_csv(\"healthcare-dataset-stroke-data.csv\")\n",
    "data = data.drop(['id'], axis=1)\n",
    "data = data[data['gender'] != 'Other']\n",
    "data.head()\n",
    "\n",
    "df = data.copy()\n",
    "df.loc[:, [\"hypertension\", \"heart_disease\", \"stroke\"]] = data.loc[:, [\"hypertension\", \"heart_disease\", \"stroke\"]].applymap(lambda x: \"Yes\" if x == 1 else \"No\")\n",
    "df.head()"
   ]
  },
  {
   "cell_type": "code",
   "execution_count": 4,
   "id": "f9c29c69-c661-4519-a55f-50329d0cc51b",
   "metadata": {},
   "outputs": [],
   "source": [
    "X = df.drop([\"stroke\"], axis=1)\n",
    "y = LabelEncoder().fit_transform(df['stroke'])\n",
    "\n",
    "X_num = X.select_dtypes(include = 'number')\n",
    "X_cat = X.select_dtypes(exclude = 'number')\n",
    "\n",
    "X[X_num.columns] = SimpleImputer(strategy=\"mean\").fit_transform(X_num)\n",
    "X[X_cat.columns] = SimpleImputer(strategy=\"most_frequent\").fit_transform(X_cat)"
   ]
  },
  {
   "cell_type": "code",
   "execution_count": 5,
   "id": "faca1419-23b6-4d73-bcba-56c0b11dca5e",
   "metadata": {},
   "outputs": [
    {
     "data": {
      "text/html": [
       "<style>#sk-container-id-1 {color: black;background-color: white;}#sk-container-id-1 pre{padding: 0;}#sk-container-id-1 div.sk-toggleable {background-color: white;}#sk-container-id-1 label.sk-toggleable__label {cursor: pointer;display: block;width: 100%;margin-bottom: 0;padding: 0.3em;box-sizing: border-box;text-align: center;}#sk-container-id-1 label.sk-toggleable__label-arrow:before {content: \"▸\";float: left;margin-right: 0.25em;color: #696969;}#sk-container-id-1 label.sk-toggleable__label-arrow:hover:before {color: black;}#sk-container-id-1 div.sk-estimator:hover label.sk-toggleable__label-arrow:before {color: black;}#sk-container-id-1 div.sk-toggleable__content {max-height: 0;max-width: 0;overflow: hidden;text-align: left;background-color: #f0f8ff;}#sk-container-id-1 div.sk-toggleable__content pre {margin: 0.2em;color: black;border-radius: 0.25em;background-color: #f0f8ff;}#sk-container-id-1 input.sk-toggleable__control:checked~div.sk-toggleable__content {max-height: 200px;max-width: 100%;overflow: auto;}#sk-container-id-1 input.sk-toggleable__control:checked~label.sk-toggleable__label-arrow:before {content: \"▾\";}#sk-container-id-1 div.sk-estimator input.sk-toggleable__control:checked~label.sk-toggleable__label {background-color: #d4ebff;}#sk-container-id-1 div.sk-label input.sk-toggleable__control:checked~label.sk-toggleable__label {background-color: #d4ebff;}#sk-container-id-1 input.sk-hidden--visually {border: 0;clip: rect(1px 1px 1px 1px);clip: rect(1px, 1px, 1px, 1px);height: 1px;margin: -1px;overflow: hidden;padding: 0;position: absolute;width: 1px;}#sk-container-id-1 div.sk-estimator {font-family: monospace;background-color: #f0f8ff;border: 1px dotted black;border-radius: 0.25em;box-sizing: border-box;margin-bottom: 0.5em;}#sk-container-id-1 div.sk-estimator:hover {background-color: #d4ebff;}#sk-container-id-1 div.sk-parallel-item::after {content: \"\";width: 100%;border-bottom: 1px solid gray;flex-grow: 1;}#sk-container-id-1 div.sk-label:hover label.sk-toggleable__label {background-color: #d4ebff;}#sk-container-id-1 div.sk-serial::before {content: \"\";position: absolute;border-left: 1px solid gray;box-sizing: border-box;top: 0;bottom: 0;left: 50%;z-index: 0;}#sk-container-id-1 div.sk-serial {display: flex;flex-direction: column;align-items: center;background-color: white;padding-right: 0.2em;padding-left: 0.2em;position: relative;}#sk-container-id-1 div.sk-item {position: relative;z-index: 1;}#sk-container-id-1 div.sk-parallel {display: flex;align-items: stretch;justify-content: center;background-color: white;position: relative;}#sk-container-id-1 div.sk-item::before, #sk-container-id-1 div.sk-parallel-item::before {content: \"\";position: absolute;border-left: 1px solid gray;box-sizing: border-box;top: 0;bottom: 0;left: 50%;z-index: -1;}#sk-container-id-1 div.sk-parallel-item {display: flex;flex-direction: column;z-index: 1;position: relative;background-color: white;}#sk-container-id-1 div.sk-parallel-item:first-child::after {align-self: flex-end;width: 50%;}#sk-container-id-1 div.sk-parallel-item:last-child::after {align-self: flex-start;width: 50%;}#sk-container-id-1 div.sk-parallel-item:only-child::after {width: 0;}#sk-container-id-1 div.sk-dashed-wrapped {border: 1px dashed gray;margin: 0 0.4em 0.5em 0.4em;box-sizing: border-box;padding-bottom: 0.4em;background-color: white;}#sk-container-id-1 div.sk-label label {font-family: monospace;font-weight: bold;display: inline-block;line-height: 1.2em;}#sk-container-id-1 div.sk-label-container {text-align: center;}#sk-container-id-1 div.sk-container {/* jupyter's `normalize.less` sets `[hidden] { display: none; }` but bootstrap.min.css set `[hidden] { display: none !important; }` so we also need the `!important` here to be able to override the default hidden behavior on the sphinx rendered scikit-learn.org. See: https://github.com/scikit-learn/scikit-learn/issues/21755 */display: inline-block !important;position: relative;}#sk-container-id-1 div.sk-text-repr-fallback {display: none;}</style><div id=\"sk-container-id-1\" class=\"sk-top-container\"><div class=\"sk-text-repr-fallback\"><pre>ColumnTransformer(n_jobs=-1, remainder=&#x27;passthrough&#x27;,\n",
       "                  transformers=[(&#x27;scaler&#x27;, StandardScaler(),\n",
       "                                 Index([&#x27;age&#x27;, &#x27;avg_glucose_level&#x27;, &#x27;bmi&#x27;], dtype=&#x27;object&#x27;)),\n",
       "                                (&#x27;onehot&#x27;,\n",
       "                                 OneHotEncoder(drop=&#x27;first&#x27;,\n",
       "                                               handle_unknown=&#x27;ignore&#x27;,\n",
       "                                               sparse_output=False),\n",
       "                                 Index([&#x27;gender&#x27;, &#x27;hypertension&#x27;, &#x27;heart_disease&#x27;, &#x27;ever_married&#x27;, &#x27;work_type&#x27;,\n",
       "       &#x27;Residence_type&#x27;, &#x27;smoking_status&#x27;],\n",
       "      dtype=&#x27;object&#x27;))])</pre><b>In a Jupyter environment, please rerun this cell to show the HTML representation or trust the notebook. <br />On GitHub, the HTML representation is unable to render, please try loading this page with nbviewer.org.</b></div><div class=\"sk-container\" hidden><div class=\"sk-item sk-dashed-wrapped\"><div class=\"sk-label-container\"><div class=\"sk-label sk-toggleable\"><input class=\"sk-toggleable__control sk-hidden--visually\" id=\"sk-estimator-id-1\" type=\"checkbox\" ><label for=\"sk-estimator-id-1\" class=\"sk-toggleable__label sk-toggleable__label-arrow\">ColumnTransformer</label><div class=\"sk-toggleable__content\"><pre>ColumnTransformer(n_jobs=-1, remainder=&#x27;passthrough&#x27;,\n",
       "                  transformers=[(&#x27;scaler&#x27;, StandardScaler(),\n",
       "                                 Index([&#x27;age&#x27;, &#x27;avg_glucose_level&#x27;, &#x27;bmi&#x27;], dtype=&#x27;object&#x27;)),\n",
       "                                (&#x27;onehot&#x27;,\n",
       "                                 OneHotEncoder(drop=&#x27;first&#x27;,\n",
       "                                               handle_unknown=&#x27;ignore&#x27;,\n",
       "                                               sparse_output=False),\n",
       "                                 Index([&#x27;gender&#x27;, &#x27;hypertension&#x27;, &#x27;heart_disease&#x27;, &#x27;ever_married&#x27;, &#x27;work_type&#x27;,\n",
       "       &#x27;Residence_type&#x27;, &#x27;smoking_status&#x27;],\n",
       "      dtype=&#x27;object&#x27;))])</pre></div></div></div><div class=\"sk-parallel\"><div class=\"sk-parallel-item\"><div class=\"sk-item\"><div class=\"sk-label-container\"><div class=\"sk-label sk-toggleable\"><input class=\"sk-toggleable__control sk-hidden--visually\" id=\"sk-estimator-id-2\" type=\"checkbox\" ><label for=\"sk-estimator-id-2\" class=\"sk-toggleable__label sk-toggleable__label-arrow\">scaler</label><div class=\"sk-toggleable__content\"><pre>Index([&#x27;age&#x27;, &#x27;avg_glucose_level&#x27;, &#x27;bmi&#x27;], dtype=&#x27;object&#x27;)</pre></div></div></div><div class=\"sk-serial\"><div class=\"sk-item\"><div class=\"sk-estimator sk-toggleable\"><input class=\"sk-toggleable__control sk-hidden--visually\" id=\"sk-estimator-id-3\" type=\"checkbox\" ><label for=\"sk-estimator-id-3\" class=\"sk-toggleable__label sk-toggleable__label-arrow\">StandardScaler</label><div class=\"sk-toggleable__content\"><pre>StandardScaler()</pre></div></div></div></div></div></div><div class=\"sk-parallel-item\"><div class=\"sk-item\"><div class=\"sk-label-container\"><div class=\"sk-label sk-toggleable\"><input class=\"sk-toggleable__control sk-hidden--visually\" id=\"sk-estimator-id-4\" type=\"checkbox\" ><label for=\"sk-estimator-id-4\" class=\"sk-toggleable__label sk-toggleable__label-arrow\">onehot</label><div class=\"sk-toggleable__content\"><pre>Index([&#x27;gender&#x27;, &#x27;hypertension&#x27;, &#x27;heart_disease&#x27;, &#x27;ever_married&#x27;, &#x27;work_type&#x27;,\n",
       "       &#x27;Residence_type&#x27;, &#x27;smoking_status&#x27;],\n",
       "      dtype=&#x27;object&#x27;)</pre></div></div></div><div class=\"sk-serial\"><div class=\"sk-item\"><div class=\"sk-estimator sk-toggleable\"><input class=\"sk-toggleable__control sk-hidden--visually\" id=\"sk-estimator-id-5\" type=\"checkbox\" ><label for=\"sk-estimator-id-5\" class=\"sk-toggleable__label sk-toggleable__label-arrow\">OneHotEncoder</label><div class=\"sk-toggleable__content\"><pre>OneHotEncoder(drop=&#x27;first&#x27;, handle_unknown=&#x27;ignore&#x27;, sparse_output=False)</pre></div></div></div></div></div></div><div class=\"sk-parallel-item\"><div class=\"sk-item\"><div class=\"sk-label-container\"><div class=\"sk-label sk-toggleable\"><input class=\"sk-toggleable__control sk-hidden--visually\" id=\"sk-estimator-id-6\" type=\"checkbox\" ><label for=\"sk-estimator-id-6\" class=\"sk-toggleable__label sk-toggleable__label-arrow\">remainder</label><div class=\"sk-toggleable__content\"><pre></pre></div></div></div><div class=\"sk-serial\"><div class=\"sk-item\"><div class=\"sk-estimator sk-toggleable\"><input class=\"sk-toggleable__control sk-hidden--visually\" id=\"sk-estimator-id-7\" type=\"checkbox\" ><label for=\"sk-estimator-id-7\" class=\"sk-toggleable__label sk-toggleable__label-arrow\">passthrough</label><div class=\"sk-toggleable__content\"><pre>passthrough</pre></div></div></div></div></div></div></div></div></div></div>"
      ],
      "text/plain": [
       "ColumnTransformer(n_jobs=-1, remainder='passthrough',\n",
       "                  transformers=[('scaler', StandardScaler(),\n",
       "                                 Index(['age', 'avg_glucose_level', 'bmi'], dtype='object')),\n",
       "                                ('onehot',\n",
       "                                 OneHotEncoder(drop='first',\n",
       "                                               handle_unknown='ignore',\n",
       "                                               sparse_output=False),\n",
       "                                 Index(['gender', 'hypertension', 'heart_disease', 'ever_married', 'work_type',\n",
       "       'Residence_type', 'smoking_status'],\n",
       "      dtype='object'))])"
      ]
     },
     "execution_count": 5,
     "metadata": {},
     "output_type": "execute_result"
    }
   ],
   "source": [
    "scaler = StandardScaler()\n",
    "\n",
    "onehot = OneHotEncoder(drop = 'first', handle_unknown='ignore', sparse_output=False)\n",
    "\n",
    "ct = ColumnTransformer([('scaler', scaler, X_num.columns),\n",
    "                        ('onehot', onehot, X_cat.columns)], \n",
    "                       remainder='passthrough', n_jobs=-1)\n",
    "\n",
    "ct"
   ]
  },
  {
   "cell_type": "code",
   "execution_count": 6,
   "id": "4f43c030-38c2-4b87-b1ec-70d12884afe2",
   "metadata": {},
   "outputs": [],
   "source": [
    "X_train, X_test, y_train, y_test = train_test_split(X, y, test_size=0.2, random_state=42, stratify=y)"
   ]
  },
  {
   "cell_type": "code",
   "execution_count": 7,
   "id": "06de5315-8726-4ed7-b1da-ac30480096a2",
   "metadata": {},
   "outputs": [
    {
     "data": {
      "text/html": [
       "<style>#sk-container-id-2 {color: black;background-color: white;}#sk-container-id-2 pre{padding: 0;}#sk-container-id-2 div.sk-toggleable {background-color: white;}#sk-container-id-2 label.sk-toggleable__label {cursor: pointer;display: block;width: 100%;margin-bottom: 0;padding: 0.3em;box-sizing: border-box;text-align: center;}#sk-container-id-2 label.sk-toggleable__label-arrow:before {content: \"▸\";float: left;margin-right: 0.25em;color: #696969;}#sk-container-id-2 label.sk-toggleable__label-arrow:hover:before {color: black;}#sk-container-id-2 div.sk-estimator:hover label.sk-toggleable__label-arrow:before {color: black;}#sk-container-id-2 div.sk-toggleable__content {max-height: 0;max-width: 0;overflow: hidden;text-align: left;background-color: #f0f8ff;}#sk-container-id-2 div.sk-toggleable__content pre {margin: 0.2em;color: black;border-radius: 0.25em;background-color: #f0f8ff;}#sk-container-id-2 input.sk-toggleable__control:checked~div.sk-toggleable__content {max-height: 200px;max-width: 100%;overflow: auto;}#sk-container-id-2 input.sk-toggleable__control:checked~label.sk-toggleable__label-arrow:before {content: \"▾\";}#sk-container-id-2 div.sk-estimator input.sk-toggleable__control:checked~label.sk-toggleable__label {background-color: #d4ebff;}#sk-container-id-2 div.sk-label input.sk-toggleable__control:checked~label.sk-toggleable__label {background-color: #d4ebff;}#sk-container-id-2 input.sk-hidden--visually {border: 0;clip: rect(1px 1px 1px 1px);clip: rect(1px, 1px, 1px, 1px);height: 1px;margin: -1px;overflow: hidden;padding: 0;position: absolute;width: 1px;}#sk-container-id-2 div.sk-estimator {font-family: monospace;background-color: #f0f8ff;border: 1px dotted black;border-radius: 0.25em;box-sizing: border-box;margin-bottom: 0.5em;}#sk-container-id-2 div.sk-estimator:hover {background-color: #d4ebff;}#sk-container-id-2 div.sk-parallel-item::after {content: \"\";width: 100%;border-bottom: 1px solid gray;flex-grow: 1;}#sk-container-id-2 div.sk-label:hover label.sk-toggleable__label {background-color: #d4ebff;}#sk-container-id-2 div.sk-serial::before {content: \"\";position: absolute;border-left: 1px solid gray;box-sizing: border-box;top: 0;bottom: 0;left: 50%;z-index: 0;}#sk-container-id-2 div.sk-serial {display: flex;flex-direction: column;align-items: center;background-color: white;padding-right: 0.2em;padding-left: 0.2em;position: relative;}#sk-container-id-2 div.sk-item {position: relative;z-index: 1;}#sk-container-id-2 div.sk-parallel {display: flex;align-items: stretch;justify-content: center;background-color: white;position: relative;}#sk-container-id-2 div.sk-item::before, #sk-container-id-2 div.sk-parallel-item::before {content: \"\";position: absolute;border-left: 1px solid gray;box-sizing: border-box;top: 0;bottom: 0;left: 50%;z-index: -1;}#sk-container-id-2 div.sk-parallel-item {display: flex;flex-direction: column;z-index: 1;position: relative;background-color: white;}#sk-container-id-2 div.sk-parallel-item:first-child::after {align-self: flex-end;width: 50%;}#sk-container-id-2 div.sk-parallel-item:last-child::after {align-self: flex-start;width: 50%;}#sk-container-id-2 div.sk-parallel-item:only-child::after {width: 0;}#sk-container-id-2 div.sk-dashed-wrapped {border: 1px dashed gray;margin: 0 0.4em 0.5em 0.4em;box-sizing: border-box;padding-bottom: 0.4em;background-color: white;}#sk-container-id-2 div.sk-label label {font-family: monospace;font-weight: bold;display: inline-block;line-height: 1.2em;}#sk-container-id-2 div.sk-label-container {text-align: center;}#sk-container-id-2 div.sk-container {/* jupyter's `normalize.less` sets `[hidden] { display: none; }` but bootstrap.min.css set `[hidden] { display: none !important; }` so we also need the `!important` here to be able to override the default hidden behavior on the sphinx rendered scikit-learn.org. See: https://github.com/scikit-learn/scikit-learn/issues/21755 */display: inline-block !important;position: relative;}#sk-container-id-2 div.sk-text-repr-fallback {display: none;}</style><div id=\"sk-container-id-2\" class=\"sk-top-container\"><div class=\"sk-text-repr-fallback\"><pre>ColumnTransformer(n_jobs=-1, remainder=&#x27;passthrough&#x27;,\n",
       "                  transformers=[(&#x27;scaler&#x27;, StandardScaler(),\n",
       "                                 Index([&#x27;Age&#x27;, &#x27;eGFR&#x27;, &#x27;SBP&#x27;, &#x27;DBP&#x27;, &#x27;HbA1c&#x27;, &#x27;Creatinine&#x27;, &#x27;Hemoglobin&#x27;], dtype=&#x27;object&#x27;)),\n",
       "                                (&#x27;onehot&#x27;,\n",
       "                                 OneHotEncoder(drop=&#x27;first&#x27;,\n",
       "                                               handle_unknown=&#x27;ignore&#x27;,\n",
       "                                               sparse_output=False),\n",
       "                                 Index([&#x27;Sex&#x27;, &#x27;Hypertension&#x27;, &#x27;Dyslipidemia&#x27;, &#x27;Heart&#x27;, &#x27;Stroke&#x27;,\n",
       "       &#x27;Diabetic medicine&#x27;, &#x27;Insulin&#x27;, &#x27;Arb Acei&#x27;, &#x27;Diuretics&#x27;, &#x27;Statin&#x27;],\n",
       "      dtype=&#x27;object&#x27;))])</pre><b>In a Jupyter environment, please rerun this cell to show the HTML representation or trust the notebook. <br />On GitHub, the HTML representation is unable to render, please try loading this page with nbviewer.org.</b></div><div class=\"sk-container\" hidden><div class=\"sk-item sk-dashed-wrapped\"><div class=\"sk-label-container\"><div class=\"sk-label sk-toggleable\"><input class=\"sk-toggleable__control sk-hidden--visually\" id=\"sk-estimator-id-8\" type=\"checkbox\" ><label for=\"sk-estimator-id-8\" class=\"sk-toggleable__label sk-toggleable__label-arrow\">ColumnTransformer</label><div class=\"sk-toggleable__content\"><pre>ColumnTransformer(n_jobs=-1, remainder=&#x27;passthrough&#x27;,\n",
       "                  transformers=[(&#x27;scaler&#x27;, StandardScaler(),\n",
       "                                 Index([&#x27;Age&#x27;, &#x27;eGFR&#x27;, &#x27;SBP&#x27;, &#x27;DBP&#x27;, &#x27;HbA1c&#x27;, &#x27;Creatinine&#x27;, &#x27;Hemoglobin&#x27;], dtype=&#x27;object&#x27;)),\n",
       "                                (&#x27;onehot&#x27;,\n",
       "                                 OneHotEncoder(drop=&#x27;first&#x27;,\n",
       "                                               handle_unknown=&#x27;ignore&#x27;,\n",
       "                                               sparse_output=False),\n",
       "                                 Index([&#x27;Sex&#x27;, &#x27;Hypertension&#x27;, &#x27;Dyslipidemia&#x27;, &#x27;Heart&#x27;, &#x27;Stroke&#x27;,\n",
       "       &#x27;Diabetic medicine&#x27;, &#x27;Insulin&#x27;, &#x27;Arb Acei&#x27;, &#x27;Diuretics&#x27;, &#x27;Statin&#x27;],\n",
       "      dtype=&#x27;object&#x27;))])</pre></div></div></div><div class=\"sk-parallel\"><div class=\"sk-parallel-item\"><div class=\"sk-item\"><div class=\"sk-label-container\"><div class=\"sk-label sk-toggleable\"><input class=\"sk-toggleable__control sk-hidden--visually\" id=\"sk-estimator-id-9\" type=\"checkbox\" ><label for=\"sk-estimator-id-9\" class=\"sk-toggleable__label sk-toggleable__label-arrow\">scaler</label><div class=\"sk-toggleable__content\"><pre>Index([&#x27;Age&#x27;, &#x27;eGFR&#x27;, &#x27;SBP&#x27;, &#x27;DBP&#x27;, &#x27;HbA1c&#x27;, &#x27;Creatinine&#x27;, &#x27;Hemoglobin&#x27;], dtype=&#x27;object&#x27;)</pre></div></div></div><div class=\"sk-serial\"><div class=\"sk-item\"><div class=\"sk-estimator sk-toggleable\"><input class=\"sk-toggleable__control sk-hidden--visually\" id=\"sk-estimator-id-10\" type=\"checkbox\" ><label for=\"sk-estimator-id-10\" class=\"sk-toggleable__label sk-toggleable__label-arrow\">StandardScaler</label><div class=\"sk-toggleable__content\"><pre>StandardScaler()</pre></div></div></div></div></div></div><div class=\"sk-parallel-item\"><div class=\"sk-item\"><div class=\"sk-label-container\"><div class=\"sk-label sk-toggleable\"><input class=\"sk-toggleable__control sk-hidden--visually\" id=\"sk-estimator-id-11\" type=\"checkbox\" ><label for=\"sk-estimator-id-11\" class=\"sk-toggleable__label sk-toggleable__label-arrow\">onehot</label><div class=\"sk-toggleable__content\"><pre>Index([&#x27;Sex&#x27;, &#x27;Hypertension&#x27;, &#x27;Dyslipidemia&#x27;, &#x27;Heart&#x27;, &#x27;Stroke&#x27;,\n",
       "       &#x27;Diabetic medicine&#x27;, &#x27;Insulin&#x27;, &#x27;Arb Acei&#x27;, &#x27;Diuretics&#x27;, &#x27;Statin&#x27;],\n",
       "      dtype=&#x27;object&#x27;)</pre></div></div></div><div class=\"sk-serial\"><div class=\"sk-item\"><div class=\"sk-estimator sk-toggleable\"><input class=\"sk-toggleable__control sk-hidden--visually\" id=\"sk-estimator-id-12\" type=\"checkbox\" ><label for=\"sk-estimator-id-12\" class=\"sk-toggleable__label sk-toggleable__label-arrow\">OneHotEncoder</label><div class=\"sk-toggleable__content\"><pre>OneHotEncoder(drop=&#x27;first&#x27;, handle_unknown=&#x27;ignore&#x27;, sparse_output=False)</pre></div></div></div></div></div></div><div class=\"sk-parallel-item\"><div class=\"sk-item\"><div class=\"sk-label-container\"><div class=\"sk-label sk-toggleable\"><input class=\"sk-toggleable__control sk-hidden--visually\" id=\"sk-estimator-id-13\" type=\"checkbox\" ><label for=\"sk-estimator-id-13\" class=\"sk-toggleable__label sk-toggleable__label-arrow\">remainder</label><div class=\"sk-toggleable__content\"><pre>[]</pre></div></div></div><div class=\"sk-serial\"><div class=\"sk-item\"><div class=\"sk-estimator sk-toggleable\"><input class=\"sk-toggleable__control sk-hidden--visually\" id=\"sk-estimator-id-14\" type=\"checkbox\" ><label for=\"sk-estimator-id-14\" class=\"sk-toggleable__label sk-toggleable__label-arrow\">passthrough</label><div class=\"sk-toggleable__content\"><pre>passthrough</pre></div></div></div></div></div></div></div></div></div></div>"
      ],
      "text/plain": [
       "ColumnTransformer(n_jobs=-1, remainder='passthrough',\n",
       "                  transformers=[('scaler', StandardScaler(),\n",
       "                                 Index(['Age', 'eGFR', 'SBP', 'DBP', 'HbA1c', 'Creatinine', 'Hemoglobin'], dtype='object')),\n",
       "                                ('onehot',\n",
       "                                 OneHotEncoder(drop='first',\n",
       "                                               handle_unknown='ignore',\n",
       "                                               sparse_output=False),\n",
       "                                 Index(['Sex', 'Hypertension', 'Dyslipidemia', 'Heart', 'Stroke',\n",
       "       'Diabetic medicine', 'Insulin', 'Arb Acei', 'Diuretics', 'Statin'],\n",
       "      dtype='object'))])"
      ]
     },
     "execution_count": 7,
     "metadata": {},
     "output_type": "execute_result"
    }
   ],
   "source": [
    "ct.fit(X_train)"
   ]
  },
  {
   "cell_type": "markdown",
   "id": "5554cf89-2ee6-40d6-a1e5-a9be63ca2606",
   "metadata": {},
   "source": [
    "- 조기 중단(`early_stopooing_rounds`)\n",
    "  - 검증 데이터셋의 손실 값이 증가하기 시작할 때(손실을 최소화하는 경우) 훈련을 중단하는 기법.\n",
    "  - 따라서 모델을 훈련시키기 위해서는 두 개의 별도 데이터셋 필요\n",
    "    - 모델 피팅을 위한 훈련 데이터\n",
    "    - 손실 모니터링과 조기 중단을 위한 검증 데이터\n",
    "\n",
    "- Xgboost 알고리즘에서는 `early_stoping_rounds` 매개변수가 손실 값이 다음으로 감소할 때까지 기다릴 허용 범위를 제어.\n",
    "- 이 매개변수가 필요한 이유는 각 반복마다 손실 값이 무작위로 감소하기 때문입니다. 검증 손실은 일정 범위 내에서 변동할 수 있으며, 몇 번의 반복 후에 감소할 수 있습니다.\n",
    "    - 일반적으로 조기 중단을 위해 50번의 반복을 사용하며, 보통 1000개의 트리와 함께 사용.\n",
    "    - 전체 반복 횟수의 10%를 조기 중단에 사용하는 것이 합리적이라는 몇 가지 경험적인 법칙이 있습니다.\n",
    "\n",
    "https://mljar.com/blog/xgboost-early-stopping/"
   ]
  },
  {
   "cell_type": "code",
   "execution_count": 7,
   "id": "e1903618-fdc7-4afc-8684-da395bf3e2a4",
   "metadata": {},
   "outputs": [],
   "source": [
    "# learning_rate, n_estimators, max_depth, min_child_weight, gamma, subsample, colsample_bytree, scale_pos_weight, early_stopping_rounds\n",
    "\n",
    "predictr = XGBClassifier(learning_rate = 0.1,\n",
    "                         n_estimators = 1000, \n",
    "                         max_depth = 3, \n",
    "                         min_child_weight = 3, \n",
    "                         gamma = 5, \n",
    "                         subsample = 0.5, \n",
    "                         colsample_bytree = 0.5, \n",
    "                         random_state = 42, \n",
    "                         scale_pos_weight = 1, \n",
    "                         eval_metric='logloss', \n",
    "                         early_stopping_rounds = 50)"
   ]
  },
  {
   "cell_type": "code",
   "execution_count": 8,
   "id": "7a334654-67af-448f-b360-d90e1a6b8bb6",
   "metadata": {},
   "outputs": [
    {
     "name": "stdout",
     "output_type": "stream",
     "text": [
      "[0]\tvalidation_0-logloss:0.61542\tvalidation_1-logloss:0.61582\n",
      "[2]\tvalidation_0-logloss:0.49849\tvalidation_1-logloss:0.49832\n",
      "[4]\tvalidation_0-logloss:0.41477\tvalidation_1-logloss:0.41376\n",
      "[6]\tvalidation_0-logloss:0.35415\tvalidation_1-logloss:0.35375\n",
      "[8]\tvalidation_0-logloss:0.30894\tvalidation_1-logloss:0.30850\n",
      "[10]\tvalidation_0-logloss:0.27531\tvalidation_1-logloss:0.27517\n",
      "[12]\tvalidation_0-logloss:0.24932\tvalidation_1-logloss:0.24899\n",
      "[14]\tvalidation_0-logloss:0.22942\tvalidation_1-logloss:0.22914\n",
      "[16]\tvalidation_0-logloss:0.21511\tvalidation_1-logloss:0.21476\n",
      "[18]\tvalidation_0-logloss:0.20194\tvalidation_1-logloss:0.20147\n",
      "[20]\tvalidation_0-logloss:0.19201\tvalidation_1-logloss:0.19223\n",
      "[22]\tvalidation_0-logloss:0.18444\tvalidation_1-logloss:0.18521\n",
      "[24]\tvalidation_0-logloss:0.17758\tvalidation_1-logloss:0.17886\n",
      "[26]\tvalidation_0-logloss:0.17243\tvalidation_1-logloss:0.17448\n",
      "[28]\tvalidation_0-logloss:0.16791\tvalidation_1-logloss:0.17113\n",
      "[30]\tvalidation_0-logloss:0.16564\tvalidation_1-logloss:0.16954\n",
      "[32]\tvalidation_0-logloss:0.16400\tvalidation_1-logloss:0.16838\n",
      "[34]\tvalidation_0-logloss:0.16320\tvalidation_1-logloss:0.16734\n",
      "[36]\tvalidation_0-logloss:0.16056\tvalidation_1-logloss:0.16533\n",
      "[38]\tvalidation_0-logloss:0.15846\tvalidation_1-logloss:0.16500\n",
      "[40]\tvalidation_0-logloss:0.15608\tvalidation_1-logloss:0.16323\n",
      "[42]\tvalidation_0-logloss:0.15435\tvalidation_1-logloss:0.16213\n",
      "[44]\tvalidation_0-logloss:0.15344\tvalidation_1-logloss:0.16196\n",
      "[46]\tvalidation_0-logloss:0.15268\tvalidation_1-logloss:0.16116\n",
      "[48]\tvalidation_0-logloss:0.15184\tvalidation_1-logloss:0.16104\n",
      "[50]\tvalidation_0-logloss:0.15087\tvalidation_1-logloss:0.16108\n",
      "[52]\tvalidation_0-logloss:0.15035\tvalidation_1-logloss:0.16062\n",
      "[54]\tvalidation_0-logloss:0.14999\tvalidation_1-logloss:0.16069\n",
      "[56]\tvalidation_0-logloss:0.14920\tvalidation_1-logloss:0.16138\n",
      "[58]\tvalidation_0-logloss:0.14886\tvalidation_1-logloss:0.16152\n",
      "[60]\tvalidation_0-logloss:0.14839\tvalidation_1-logloss:0.16130\n",
      "[62]\tvalidation_0-logloss:0.14797\tvalidation_1-logloss:0.16114\n",
      "[64]\tvalidation_0-logloss:0.14796\tvalidation_1-logloss:0.16114\n",
      "[66]\tvalidation_0-logloss:0.14771\tvalidation_1-logloss:0.16111\n",
      "[68]\tvalidation_0-logloss:0.14702\tvalidation_1-logloss:0.16121\n",
      "[70]\tvalidation_0-logloss:0.14687\tvalidation_1-logloss:0.16092\n",
      "[72]\tvalidation_0-logloss:0.14622\tvalidation_1-logloss:0.16075\n",
      "[74]\tvalidation_0-logloss:0.14622\tvalidation_1-logloss:0.16075\n",
      "[76]\tvalidation_0-logloss:0.14567\tvalidation_1-logloss:0.16060\n",
      "[78]\tvalidation_0-logloss:0.14567\tvalidation_1-logloss:0.16061\n",
      "[80]\tvalidation_0-logloss:0.14501\tvalidation_1-logloss:0.16035\n",
      "[82]\tvalidation_0-logloss:0.14469\tvalidation_1-logloss:0.16064\n",
      "[84]\tvalidation_0-logloss:0.14469\tvalidation_1-logloss:0.16064\n",
      "[86]\tvalidation_0-logloss:0.14451\tvalidation_1-logloss:0.16104\n",
      "[88]\tvalidation_0-logloss:0.14450\tvalidation_1-logloss:0.16105\n",
      "[90]\tvalidation_0-logloss:0.14451\tvalidation_1-logloss:0.16104\n",
      "[92]\tvalidation_0-logloss:0.14390\tvalidation_1-logloss:0.16153\n",
      "[94]\tvalidation_0-logloss:0.14350\tvalidation_1-logloss:0.16223\n",
      "[96]\tvalidation_0-logloss:0.14352\tvalidation_1-logloss:0.16225\n",
      "[98]\tvalidation_0-logloss:0.14352\tvalidation_1-logloss:0.16228\n",
      "[100]\tvalidation_0-logloss:0.14352\tvalidation_1-logloss:0.16226\n",
      "[102]\tvalidation_0-logloss:0.14352\tvalidation_1-logloss:0.16224\n",
      "[104]\tvalidation_0-logloss:0.14335\tvalidation_1-logloss:0.16212\n",
      "[106]\tvalidation_0-logloss:0.14334\tvalidation_1-logloss:0.16214\n",
      "[108]\tvalidation_0-logloss:0.14308\tvalidation_1-logloss:0.16238\n",
      "[110]\tvalidation_0-logloss:0.14308\tvalidation_1-logloss:0.16238\n",
      "[112]\tvalidation_0-logloss:0.14307\tvalidation_1-logloss:0.16238\n",
      "[114]\tvalidation_0-logloss:0.14289\tvalidation_1-logloss:0.16258\n",
      "[116]\tvalidation_0-logloss:0.14290\tvalidation_1-logloss:0.16257\n",
      "[118]\tvalidation_0-logloss:0.14290\tvalidation_1-logloss:0.16257\n",
      "[120]\tvalidation_0-logloss:0.14271\tvalidation_1-logloss:0.16270\n",
      "[122]\tvalidation_0-logloss:0.14270\tvalidation_1-logloss:0.16271\n",
      "[124]\tvalidation_0-logloss:0.14243\tvalidation_1-logloss:0.16287\n",
      "[126]\tvalidation_0-logloss:0.14243\tvalidation_1-logloss:0.16287\n",
      "[128]\tvalidation_0-logloss:0.14204\tvalidation_1-logloss:0.16267\n",
      "[130]\tvalidation_0-logloss:0.14204\tvalidation_1-logloss:0.16268\n",
      "코드 실행 시간: 6.4 초\n"
     ]
    }
   ],
   "source": [
    "start_time = time.time()\n",
    "\n",
    "predictr.fit(ct.fit_transform(X_train), y_train, eval_set = [(ct.fit_transform(X_train), y_train), (ct.transform(X_test), y_test)], verbose=2)\n",
    "\n",
    "end_time = time.time()\n",
    "print(\"코드 실행 시간: {:.1f} 초\".format(end_time - start_time))"
   ]
  },
  {
   "cell_type": "code",
   "execution_count": 9,
   "id": "9ae5507e-a5d5-4b3f-9420-d6b897039f2b",
   "metadata": {},
   "outputs": [
    {
     "name": "stdout",
     "output_type": "stream",
     "text": [
      "반복 횟수 : 81, 평가 지표 : logloss\n"
     ]
    }
   ],
   "source": [
    "print('반복 횟수 : %d, 평가 지표 : %s' % (predictr.best_iteration, predictr.eval_metric))"
   ]
  },
  {
   "cell_type": "code",
   "execution_count": 10,
   "id": "f39f82ce-1e61-4168-a91d-34e21c4feb20",
   "metadata": {},
   "outputs": [
    {
     "data": {
      "image/png": "[encoded data removed]",
      "text/plain": [
       "<Figure size 800x600 with 1 Axes>"
      ]
     },
     "metadata": {},
     "output_type": "display_data"
    }
   ],
   "source": [
    "from matplotlib import pyplot as plt\n",
    "\n",
    "results = predictr.evals_result()\n",
    "\n",
    "plt.figure(figsize=(8,6))\n",
    "plt.plot(results[\"validation_0\"][\"logloss\"], label=\"Training loss\")\n",
    "plt.plot(results[\"validation_1\"][\"logloss\"], label=\"Validation loss\")\n",
    "plt.axvline(predictr.best_iteration, color=\"gray\", label=\"Optimal tree number\")\n",
    "plt.xlabel(\"Number of trees\")\n",
    "plt.ylabel(\"Loss\")\n",
    "plt.legend();"
   ]
  },
  {
   "cell_type": "markdown",
   "id": "0ed44d3e-1503-42df-acb4-2ad9bb39c062",
   "metadata": {},
   "source": [
    "### 튜닝 + early stopping"
   ]
  },
  {
   "cell_type": "markdown",
   "id": "56db1c13-0fa8-4fad-97db-90f6141a0d4b",
   "metadata": {},
   "source": [
    "https://scikit-learn.org/stable/modules/generated/sklearn.pipeline.Pipeline.html#sklearn.pipeline.Pipeline"
   ]
  },
  {
   "cell_type": "code",
   "execution_count": 11,
   "id": "e7b4739c-6ea3-4478-95e0-fa747ca6c86c",
   "metadata": {},
   "outputs": [
    {
     "data": {
      "text/html": [
       "<style>#sk-container-id-2 {color: black;background-color: white;}#sk-container-id-2 pre{padding: 0;}#sk-container-id-2 div.sk-toggleable {background-color: white;}#sk-container-id-2 label.sk-toggleable__label {cursor: pointer;display: block;width: 100%;margin-bottom: 0;padding: 0.3em;box-sizing: border-box;text-align: center;}#sk-container-id-2 label.sk-toggleable__label-arrow:before {content: \"▸\";float: left;margin-right: 0.25em;color: #696969;}#sk-container-id-2 label.sk-toggleable__label-arrow:hover:before {color: black;}#sk-container-id-2 div.sk-estimator:hover label.sk-toggleable__label-arrow:before {color: black;}#sk-container-id-2 div.sk-toggleable__content {max-height: 0;max-width: 0;overflow: hidden;text-align: left;background-color: #f0f8ff;}#sk-container-id-2 div.sk-toggleable__content pre {margin: 0.2em;color: black;border-radius: 0.25em;background-color: #f0f8ff;}#sk-container-id-2 input.sk-toggleable__control:checked~div.sk-toggleable__content {max-height: 200px;max-width: 100%;overflow: auto;}#sk-container-id-2 input.sk-toggleable__control:checked~label.sk-toggleable__label-arrow:before {content: \"▾\";}#sk-container-id-2 div.sk-estimator input.sk-toggleable__control:checked~label.sk-toggleable__label {background-color: #d4ebff;}#sk-container-id-2 div.sk-label input.sk-toggleable__control:checked~label.sk-toggleable__label {background-color: #d4ebff;}#sk-container-id-2 input.sk-hidden--visually {border: 0;clip: rect(1px 1px 1px 1px);clip: rect(1px, 1px, 1px, 1px);height: 1px;margin: -1px;overflow: hidden;padding: 0;position: absolute;width: 1px;}#sk-container-id-2 div.sk-estimator {font-family: monospace;background-color: #f0f8ff;border: 1px dotted black;border-radius: 0.25em;box-sizing: border-box;margin-bottom: 0.5em;}#sk-container-id-2 div.sk-estimator:hover {background-color: #d4ebff;}#sk-container-id-2 div.sk-parallel-item::after {content: \"\";width: 100%;border-bottom: 1px solid gray;flex-grow: 1;}#sk-container-id-2 div.sk-label:hover label.sk-toggleable__label {background-color: #d4ebff;}#sk-container-id-2 div.sk-serial::before {content: \"\";position: absolute;border-left: 1px solid gray;box-sizing: border-box;top: 0;bottom: 0;left: 50%;z-index: 0;}#sk-container-id-2 div.sk-serial {display: flex;flex-direction: column;align-items: center;background-color: white;padding-right: 0.2em;padding-left: 0.2em;position: relative;}#sk-container-id-2 div.sk-item {position: relative;z-index: 1;}#sk-container-id-2 div.sk-parallel {display: flex;align-items: stretch;justify-content: center;background-color: white;position: relative;}#sk-container-id-2 div.sk-item::before, #sk-container-id-2 div.sk-parallel-item::before {content: \"\";position: absolute;border-left: 1px solid gray;box-sizing: border-box;top: 0;bottom: 0;left: 50%;z-index: -1;}#sk-container-id-2 div.sk-parallel-item {display: flex;flex-direction: column;z-index: 1;position: relative;background-color: white;}#sk-container-id-2 div.sk-parallel-item:first-child::after {align-self: flex-end;width: 50%;}#sk-container-id-2 div.sk-parallel-item:last-child::after {align-self: flex-start;width: 50%;}#sk-container-id-2 div.sk-parallel-item:only-child::after {width: 0;}#sk-container-id-2 div.sk-dashed-wrapped {border: 1px dashed gray;margin: 0 0.4em 0.5em 0.4em;box-sizing: border-box;padding-bottom: 0.4em;background-color: white;}#sk-container-id-2 div.sk-label label {font-family: monospace;font-weight: bold;display: inline-block;line-height: 1.2em;}#sk-container-id-2 div.sk-label-container {text-align: center;}#sk-container-id-2 div.sk-container {/* jupyter's `normalize.less` sets `[hidden] { display: none; }` but bootstrap.min.css set `[hidden] { display: none !important; }` so we also need the `!important` here to be able to override the default hidden behavior on the sphinx rendered scikit-learn.org. See: https://github.com/scikit-learn/scikit-learn/issues/21755 */display: inline-block !important;position: relative;}#sk-container-id-2 div.sk-text-repr-fallback {display: none;}</style><div id=\"sk-container-id-2\" class=\"sk-top-container\"><div class=\"sk-text-repr-fallback\"><pre>Pipeline(steps=[(&#x27;ct&#x27;,\n",
       "                 ColumnTransformer(n_jobs=-1, remainder=&#x27;passthrough&#x27;,\n",
       "                                   transformers=[(&#x27;scaler&#x27;, StandardScaler(),\n",
       "                                                  Index([&#x27;age&#x27;, &#x27;avg_glucose_level&#x27;, &#x27;bmi&#x27;], dtype=&#x27;object&#x27;)),\n",
       "                                                 (&#x27;onehot&#x27;,\n",
       "                                                  OneHotEncoder(drop=&#x27;first&#x27;,\n",
       "                                                                handle_unknown=&#x27;ignore&#x27;,\n",
       "                                                                sparse_output=False),\n",
       "                                                  Index([&#x27;gender&#x27;, &#x27;hypertension&#x27;, &#x27;heart_disease&#x27;, &#x27;ever_married&#x27;, &#x27;work_type&#x27;,\n",
       "       &#x27;Residence_type&#x27;, &#x27;smok...\n",
       "                               feature_types=None, gamma=None, gpu_id=None,\n",
       "                               grow_policy=None, importance_type=None,\n",
       "                               interaction_constraints=None, learning_rate=None,\n",
       "                               max_bin=None, max_cat_threshold=None,\n",
       "                               max_cat_to_onehot=None, max_delta_step=None,\n",
       "                               max_depth=None, max_leaves=None,\n",
       "                               min_child_weight=None, missing=nan,\n",
       "                               monotone_constraints=None, n_estimators=1000,\n",
       "                               n_jobs=None, num_parallel_tree=None,\n",
       "                               predictor=None, random_state=42, ...))])</pre><b>In a Jupyter environment, please rerun this cell to show the HTML representation or trust the notebook. <br />On GitHub, the HTML representation is unable to render, please try loading this page with nbviewer.org.</b></div><div class=\"sk-container\" hidden><div class=\"sk-item sk-dashed-wrapped\"><div class=\"sk-label-container\"><div class=\"sk-label sk-toggleable\"><input class=\"sk-toggleable__control sk-hidden--visually\" id=\"sk-estimator-id-8\" type=\"checkbox\" ><label for=\"sk-estimator-id-8\" class=\"sk-toggleable__label sk-toggleable__label-arrow\">Pipeline</label><div class=\"sk-toggleable__content\"><pre>Pipeline(steps=[(&#x27;ct&#x27;,\n",
       "                 ColumnTransformer(n_jobs=-1, remainder=&#x27;passthrough&#x27;,\n",
       "                                   transformers=[(&#x27;scaler&#x27;, StandardScaler(),\n",
       "                                                  Index([&#x27;age&#x27;, &#x27;avg_glucose_level&#x27;, &#x27;bmi&#x27;], dtype=&#x27;object&#x27;)),\n",
       "                                                 (&#x27;onehot&#x27;,\n",
       "                                                  OneHotEncoder(drop=&#x27;first&#x27;,\n",
       "                                                                handle_unknown=&#x27;ignore&#x27;,\n",
       "                                                                sparse_output=False),\n",
       "                                                  Index([&#x27;gender&#x27;, &#x27;hypertension&#x27;, &#x27;heart_disease&#x27;, &#x27;ever_married&#x27;, &#x27;work_type&#x27;,\n",
       "       &#x27;Residence_type&#x27;, &#x27;smok...\n",
       "                               feature_types=None, gamma=None, gpu_id=None,\n",
       "                               grow_policy=None, importance_type=None,\n",
       "                               interaction_constraints=None, learning_rate=None,\n",
       "                               max_bin=None, max_cat_threshold=None,\n",
       "                               max_cat_to_onehot=None, max_delta_step=None,\n",
       "                               max_depth=None, max_leaves=None,\n",
       "                               min_child_weight=None, missing=nan,\n",
       "                               monotone_constraints=None, n_estimators=1000,\n",
       "                               n_jobs=None, num_parallel_tree=None,\n",
       "                               predictor=None, random_state=42, ...))])</pre></div></div></div><div class=\"sk-serial\"><div class=\"sk-item sk-dashed-wrapped\"><div class=\"sk-label-container\"><div class=\"sk-label sk-toggleable\"><input class=\"sk-toggleable__control sk-hidden--visually\" id=\"sk-estimator-id-9\" type=\"checkbox\" ><label for=\"sk-estimator-id-9\" class=\"sk-toggleable__label sk-toggleable__label-arrow\">ct: ColumnTransformer</label><div class=\"sk-toggleable__content\"><pre>ColumnTransformer(n_jobs=-1, remainder=&#x27;passthrough&#x27;,\n",
       "                  transformers=[(&#x27;scaler&#x27;, StandardScaler(),\n",
       "                                 Index([&#x27;age&#x27;, &#x27;avg_glucose_level&#x27;, &#x27;bmi&#x27;], dtype=&#x27;object&#x27;)),\n",
       "                                (&#x27;onehot&#x27;,\n",
       "                                 OneHotEncoder(drop=&#x27;first&#x27;,\n",
       "                                               handle_unknown=&#x27;ignore&#x27;,\n",
       "                                               sparse_output=False),\n",
       "                                 Index([&#x27;gender&#x27;, &#x27;hypertension&#x27;, &#x27;heart_disease&#x27;, &#x27;ever_married&#x27;, &#x27;work_type&#x27;,\n",
       "       &#x27;Residence_type&#x27;, &#x27;smoking_status&#x27;],\n",
       "      dtype=&#x27;object&#x27;))])</pre></div></div></div><div class=\"sk-parallel\"><div class=\"sk-parallel-item\"><div class=\"sk-item\"><div class=\"sk-label-container\"><div class=\"sk-label sk-toggleable\"><input class=\"sk-toggleable__control sk-hidden--visually\" id=\"sk-estimator-id-10\" type=\"checkbox\" ><label for=\"sk-estimator-id-10\" class=\"sk-toggleable__label sk-toggleable__label-arrow\">scaler</label><div class=\"sk-toggleable__content\"><pre>Index([&#x27;age&#x27;, &#x27;avg_glucose_level&#x27;, &#x27;bmi&#x27;], dtype=&#x27;object&#x27;)</pre></div></div></div><div class=\"sk-serial\"><div class=\"sk-item\"><div class=\"sk-estimator sk-toggleable\"><input class=\"sk-toggleable__control sk-hidden--visually\" id=\"sk-estimator-id-11\" type=\"checkbox\" ><label for=\"sk-estimator-id-11\" class=\"sk-toggleable__label sk-toggleable__label-arrow\">StandardScaler</label><div class=\"sk-toggleable__content\"><pre>StandardScaler()</pre></div></div></div></div></div></div><div class=\"sk-parallel-item\"><div class=\"sk-item\"><div class=\"sk-label-container\"><div class=\"sk-label sk-toggleable\"><input class=\"sk-toggleable__control sk-hidden--visually\" id=\"sk-estimator-id-12\" type=\"checkbox\" ><label for=\"sk-estimator-id-12\" class=\"sk-toggleable__label sk-toggleable__label-arrow\">onehot</label><div class=\"sk-toggleable__content\"><pre>Index([&#x27;gender&#x27;, &#x27;hypertension&#x27;, &#x27;heart_disease&#x27;, &#x27;ever_married&#x27;, &#x27;work_type&#x27;,\n",
       "       &#x27;Residence_type&#x27;, &#x27;smoking_status&#x27;],\n",
       "      dtype=&#x27;object&#x27;)</pre></div></div></div><div class=\"sk-serial\"><div class=\"sk-item\"><div class=\"sk-estimator sk-toggleable\"><input class=\"sk-toggleable__control sk-hidden--visually\" id=\"sk-estimator-id-13\" type=\"checkbox\" ><label for=\"sk-estimator-id-13\" class=\"sk-toggleable__label sk-toggleable__label-arrow\">OneHotEncoder</label><div class=\"sk-toggleable__content\"><pre>OneHotEncoder(drop=&#x27;first&#x27;, handle_unknown=&#x27;ignore&#x27;, sparse_output=False)</pre></div></div></div></div></div></div><div class=\"sk-parallel-item\"><div class=\"sk-item\"><div class=\"sk-label-container\"><div class=\"sk-label sk-toggleable\"><input class=\"sk-toggleable__control sk-hidden--visually\" id=\"sk-estimator-id-14\" type=\"checkbox\" ><label for=\"sk-estimator-id-14\" class=\"sk-toggleable__label sk-toggleable__label-arrow\">remainder</label><div class=\"sk-toggleable__content\"><pre>[]</pre></div></div></div><div class=\"sk-serial\"><div class=\"sk-item\"><div class=\"sk-estimator sk-toggleable\"><input class=\"sk-toggleable__control sk-hidden--visually\" id=\"sk-estimator-id-15\" type=\"checkbox\" ><label for=\"sk-estimator-id-15\" class=\"sk-toggleable__label sk-toggleable__label-arrow\">passthrough</label><div class=\"sk-toggleable__content\"><pre>passthrough</pre></div></div></div></div></div></div></div></div><div class=\"sk-item\"><div class=\"sk-estimator sk-toggleable\"><input class=\"sk-toggleable__control sk-hidden--visually\" id=\"sk-estimator-id-16\" type=\"checkbox\" ><label for=\"sk-estimator-id-16\" class=\"sk-toggleable__label sk-toggleable__label-arrow\">XGBClassifier</label><div class=\"sk-toggleable__content\"><pre>XGBClassifier(base_score=None, booster=None, callbacks=None,\n",
       "              colsample_bylevel=None, colsample_bynode=None,\n",
       "              colsample_bytree=None, early_stopping_rounds=50,\n",
       "              enable_categorical=False, eval_metric=&#x27;logloss&#x27;,\n",
       "              feature_types=None, gamma=None, gpu_id=None, grow_policy=None,\n",
       "              importance_type=None, interaction_constraints=None,\n",
       "              learning_rate=None, max_bin=None, max_cat_threshold=None,\n",
       "              max_cat_to_onehot=None, max_delta_step=None, max_depth=None,\n",
       "              max_leaves=None, min_child_weight=None, missing=nan,\n",
       "              monotone_constraints=None, n_estimators=1000, n_jobs=None,\n",
       "              num_parallel_tree=None, predictor=None, random_state=42, ...)</pre></div></div></div></div></div></div></div>"
      ],
      "text/plain": [
       "Pipeline(steps=[('ct',\n",
       "                 ColumnTransformer(n_jobs=-1, remainder='passthrough',\n",
       "                                   transformers=[('scaler', StandardScaler(),\n",
       "                                                  Index(['age', 'avg_glucose_level', 'bmi'], dtype='object')),\n",
       "                                                 ('onehot',\n",
       "                                                  OneHotEncoder(drop='first',\n",
       "                                                                handle_unknown='ignore',\n",
       "                                                                sparse_output=False),\n",
       "                                                  Index(['gender', 'hypertension', 'heart_disease', 'ever_married', 'work_type',\n",
       "       'Residence_type', 'smok...\n",
       "                               feature_types=None, gamma=None, gpu_id=None,\n",
       "                               grow_policy=None, importance_type=None,\n",
       "                               interaction_constraints=None, learning_rate=None,\n",
       "                               max_bin=None, max_cat_threshold=None,\n",
       "                               max_cat_to_onehot=None, max_delta_step=None,\n",
       "                               max_depth=None, max_leaves=None,\n",
       "                               min_child_weight=None, missing=nan,\n",
       "                               monotone_constraints=None, n_estimators=1000,\n",
       "                               n_jobs=None, num_parallel_tree=None,\n",
       "                               predictor=None, random_state=42, ...))])"
      ]
     },
     "execution_count": 11,
     "metadata": {},
     "output_type": "execute_result"
    }
   ],
   "source": [
    "predictr = XGBClassifier(n_estimators = 1000,\n",
    "                         random_state = 42, \n",
    "                         scale_pos_weight = 1,\n",
    "                         eval_metric='logloss', \n",
    "                         early_stopping_rounds = 50)\n",
    "\n",
    "pipe = Pipeline([('ct', ct), (\"XGBoost\", predictr)]);pipe"
   ]
  },
  {
   "cell_type": "code",
   "execution_count": 12,
   "id": "dec5774a-2553-4dac-b92d-2fb6c2145fbb",
   "metadata": {},
   "outputs": [],
   "source": [
    "param_dist = {\n",
    "    'XGBoost__learning_rate': scipy.stats.uniform(0.01, 1.99),\n",
    "    'XGBoost__n_estimators': scipy.stats.randint(50, 150),\n",
    "    'XGBoost__max_depth': scipy.stats.randint(4, 8),\n",
    "    'XGBoost__colsample_bytree': scipy.stats.uniform(0.4, 0.4),\n",
    "    'XGBoost__gamma' : scipy.stats.randint(3, 6),\n",
    "    'XGBoost__min_child_weight' : scipy.stats.randint(8, 16),\n",
    "    'XGBoost__subsample' : scipy.stats.uniform(0.4, 0.4),\n",
    "}"
   ]
  },
  {
   "cell_type": "code",
   "execution_count": 13,
   "id": "f062a687-88a9-4645-a8a5-37c3c02d17d2",
   "metadata": {},
   "outputs": [
    {
     "name": "stdout",
     "output_type": "stream",
     "text": [
      "코드 실행 시간: 6.1 초\n"
     ]
    }
   ],
   "source": [
    "start_time = time.time()\n",
    "\n",
    "predictr_rs = RandomizedSearchCV(pipe, \n",
    "                                 param_dist,\n",
    "                                 n_iter = 10, # default\n",
    "                                 cv=5, \n",
    "                                 scoring='accuracy',\n",
    "                                 random_state=42, \n",
    "                                 refit = True,\n",
    "                                 n_jobs = -1)\n",
    "\n",
    "fit_params = {\"XGBoost__eval_set\" : [(ct.fit_transform(X_train), y_train)]}\n",
    "verbose = {\"XGBoost__verbose\": False}\n",
    "\n",
    "predictr_rs.fit(X_train, y_train, **fit_params, **verbose)\n",
    "pipe.set_params(**{key: round(value, 2) for key, value in predictr_rs.best_params_.items()}).fit(X_train, y_train, **fit_params, **verbose)\n",
    "\n",
    "end_time = time.time()\n",
    "print(\"코드 실행 시간: {:.1f} 초\".format(end_time - start_time))"
   ]
  },
  {
   "cell_type": "code",
   "execution_count": 14,
   "id": "19691a4b-7a65-4ddf-bef7-4bd3ed7f85fc",
   "metadata": {},
   "outputs": [
    {
     "name": "stdout",
     "output_type": "stream",
     "text": [
      "[0]\tvalidation_0-logloss:0.44247\n",
      "코드 실행 시간: 0.9 초\n"
     ]
    }
   ],
   "source": [
    "start_time = time.time()\n",
    "\n",
    "scores = cross_validate(estimator = pipe,\n",
    "                        X=X_train,\n",
    "                        y=y_train,\n",
    "                        fit_params = fit_params,\n",
    "                        scoring = ['accuracy', 'roc_auc'],\n",
    "                        cv=5,\n",
    "                        n_jobs = -1)\n",
    "\n",
    "accuracy_score_rs = np.mean(scores['test_accuracy']).round(4);accuracy_score\n",
    "roc_auc_score_rs = np.mean(scores['test_roc_auc']).round(4);roc_auc_score\n",
    "\n",
    "end_time = time.time()\n",
    "print(\"코드 실행 시간: {:.1f} 초\".format(end_time - start_time))"
   ]
  },
  {
   "cell_type": "code",
   "execution_count": 15,
   "id": "de6367fe-c3df-4a74-8d24-2c1161142293",
   "metadata": {},
   "outputs": [
    {
     "name": "stdout",
     "output_type": "stream",
     "text": [
      "Best Parameters:  {'XGBoost__colsample_bytree': 0.5498160475389451, 'XGBoost__gamma': 3, 'XGBoost__learning_rate': 0.37503523183366594, 'XGBoost__max_depth': 7, 'XGBoost__min_child_weight': 12, 'XGBoost__n_estimators': 70, 'XGBoost__subsample': 0.46240745617697465}\n",
      "Best Parameters after round:  <bound method XGBModel.set_params of XGBClassifier(base_score=None, booster=None, callbacks=None,\n",
      "              colsample_bylevel=None, colsample_bynode=None,\n",
      "              colsample_bytree=0.55, early_stopping_rounds=50,\n",
      "              enable_categorical=False, eval_metric='logloss',\n",
      "              feature_types=None, gamma=3, gpu_id=None, grow_policy=None,\n",
      "              importance_type=None, interaction_constraints=None,\n",
      "              learning_rate=0.38, max_bin=None, max_cat_threshold=None,\n",
      "              max_cat_to_onehot=None, max_delta_step=None, max_depth=7,\n",
      "              max_leaves=None, min_child_weight=12, missing=nan,\n",
      "              monotone_constraints=None, n_estimators=70, n_jobs=None,\n",
      "              num_parallel_tree=None, predictor=None, random_state=42, ...)>\n",
      "Best Score in CV:  0.9515533303606432\n",
      "mean Score after round: 0.9511\n",
      "Best test Score:  0.9510763209393346\n"
     ]
    }
   ],
   "source": [
    "print(\"Best Parameters: \", predictr_rs.best_params_)\n",
    "print(\"Best Parameters after round: \", pipe.named_steps[\"XGBoost\"].set_params)\n",
    "print(\"Best Score in CV: \", predictr_rs.best_score_)\n",
    "print(\"mean Score after round:\", accuracy_score_rs)\n",
    "print(\"Best test Score: \", pipe.named_steps[\"XGBoost\"].score(ct.transform(X_test), y_test))"
   ]
  }
 ],
 "metadata": {
  "kernelspec": {
   "display_name": "Python 3 (ipykernel)",
   "language": "python",
   "name": "python3"
  },
  "language_info": {
   "codemirror_mode": {
    "name": "ipython",
    "version": 3
   },
   "file_extension": ".py",
   "mimetype": "text/x-python",
   "name": "python",
   "nbconvert_exporter": "python",
   "pygments_lexer": "ipython3",
   "version": "3.10.13"
  }
 },
 "nbformat": 4,
 "nbformat_minor": 5
}
