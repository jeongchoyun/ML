{
 "cells": [
  {
   "cell_type": "raw",
   "id": "d62af31e-1c84-4d9d-8a40-d63c4b96617e",
   "metadata": {},
   "source": [
    "---\n",
    "title: \"10wk: 예측 모델 훈련과 선택 - 각 모델 튜닝 범위\"\n",
    "author: \"정초윤\"\n",
    "date: \"05/29/2024\"\n",
    "---"
   ]
  },
  {
   "cell_type": "markdown",
   "id": "cd54d001-7639-472d-a24b-ba6638d79ba0",
   "metadata": {},
   "source": [
    "### Logistic Regression - L1, L2"
   ]
  },
  {
   "cell_type": "code",
   "execution_count": null,
   "id": "4e08c7aa-c907-4f0e-938d-330f2d7dd4f2",
   "metadata": {},
   "outputs": [],
   "source": [
    "param_grid = {\n",
    "    'Lasso__C': np.logspace(-4, 4, 10)\n",
    "}"
   ]
  },
  {
   "cell_type": "code",
   "execution_count": null,
   "id": "0f3b506c-5d2d-4d66-b055-786b63dfdda4",
   "metadata": {},
   "outputs": [],
   "source": [
    "param_dist = {\n",
    "    'Lasso__C': scipy.stats.loguniform(1e-4, 1e4)\n",
    "}"
   ]
  },
  {
   "cell_type": "code",
   "execution_count": null,
   "id": "38c28118-0590-458d-982e-d2f37335db56",
   "metadata": {},
   "outputs": [],
   "source": [
    "search_spaces = {\n",
    "    'Lasso__C': (0.001, 1000, 'log-uniform') # scipy.stats.loguniform(1e-4, 1e4)\n",
    "}"
   ]
  },
  {
   "cell_type": "markdown",
   "id": "ba6c0ff2-4b19-4fab-ad9e-4bb63ace4ca6",
   "metadata": {},
   "source": [
    "### Logistic Regression - ElasticNet"
   ]
  },
  {
   "cell_type": "code",
   "execution_count": null,
   "id": "d4bd18d3-0050-43c0-ad13-01446b60477a",
   "metadata": {},
   "outputs": [],
   "source": [
    "param_grid = {\n",
    "    'ElasticNet__C': np.logspace(-4, 4, num=10),\n",
    "    'ElasticNet__l1_ratio': np.arange(0.1, 0.9, 0.1)\n",
    "}"
   ]
  },
  {
   "cell_type": "code",
   "execution_count": null,
   "id": "14cff5b6-ad20-46c4-b4eb-aa3d47df4c47",
   "metadata": {},
   "outputs": [],
   "source": [
    "param_dist = {\n",
    "    'ElasticNet__C': scipy.stats.loguniform(1e-4, 1e4),\n",
    "    'ElasticNet__l1_ratio': scipy.stats.uniform(0.1, 0.8)\n",
    "}"
   ]
  },
  {
   "cell_type": "code",
   "execution_count": null,
   "id": "f5559ae8-73fc-401d-a1f6-21810dd6c4d3",
   "metadata": {},
   "outputs": [],
   "source": [
    "search_spaces = {\n",
    "    'ElasticNet__C': (0.001, 1000, 'log-uniform'),\n",
    "    'ElasticNet__l1_ratio': (0.1, 0.9)\n",
    "}"
   ]
  },
  {
   "cell_type": "markdown",
   "id": "0585c886-d793-4baf-971e-1188a9e9a4b5",
   "metadata": {},
   "source": [
    "### RandomForest"
   ]
  },
  {
   "cell_type": "code",
   "execution_count": null,
   "id": "15521b68-fc36-4b62-87b7-a6db4b9a2a76",
   "metadata": {},
   "outputs": [],
   "source": [
    "param_grid = {\n",
    "    'RandomForest__n_estimators': (50, 100, 150),\n",
    "    'RandomForest__max_depth': (4, 6, 8),\n",
    "    'RandomForest__max_features': (0.4, 0.6, 0.8),\n",
    "    'RandomForest__min_samples_leaf' : (8, 12, 16),\n",
    "    'RandomForest__min_samples_split' : (8, 12, 16)\n",
    "}"
   ]
  },
  {
   "cell_type": "code",
   "execution_count": null,
   "id": "2d8a53c6-502f-451f-a02a-f6c09c4fe30c",
   "metadata": {},
   "outputs": [],
   "source": [
    "param_dist = {\n",
    "    'RandomForest__n_estimators': scipy.stats.randint(50, 150),\n",
    "    'RandomForest__max_depth': scipy.stats.randint(4, 8),\n",
    "    'RandomForest__max_features': scipy.stats.uniform(0.4, 0.4), # 0.8 직전까지 가능\n",
    "    'RandomForest__min_samples_leaf' : scipy.stats.randint(8, 16),\n",
    "    'RandomForest__min_samples_split' : scipy.stats.randint(8, 16)\n",
    "}"
   ]
  },
  {
   "cell_type": "code",
   "execution_count": null,
   "id": "72c2b3c1-d7da-4996-b491-eabc95126979",
   "metadata": {},
   "outputs": [],
   "source": [
    "search_spaces = {\n",
    "    'RandomForest__n_estimators': (50, 150),\n",
    "    'RandomForest__max_depth': (4, 8),\n",
    "    'RandomForest__max_features': (0.4, 0.8),\n",
    "    'RandomForest__min_samples_leaf' : (8, 16),\n",
    "    'RandomForest__min_samples_split' : (8, 16)\n",
    "}"
   ]
  },
  {
   "cell_type": "markdown",
   "id": "8445a977-c01d-4ba4-b420-00189814d7c1",
   "metadata": {},
   "source": [
    "### XGBoost"
   ]
  },
  {
   "cell_type": "code",
   "execution_count": null,
   "id": "8d7e68e7-dc4b-4560-92df-3ee1bbc1e265",
   "metadata": {},
   "outputs": [],
   "source": [
    "param_grid = {\n",
    "    'XGBoost__learning_rate': (0.01, 0.05, 0.1, 0.15, 0.2),\n",
    "    'XGBoost__n_estimators': (50, 100, 150),\n",
    "    'XGBoost__max_depth': (4, 6, 8),\n",
    "    'XGBoost__colsample_bytree': (0.4, 0.6, 0.8),\n",
    "    'XGBoost__gamma' : (3,6),\n",
    "    'XGBoost__min_child_weight' : (8, 12, 16),\n",
    "    'XGBoost__subsample' : (0.4, 0.6, 0.8),\n",
    "}"
   ]
  },
  {
   "cell_type": "code",
   "execution_count": null,
   "id": "3c234ebc-e719-456f-bb12-e2e15412025b",
   "metadata": {},
   "outputs": [],
   "source": [
    "param_dist = {\n",
    "    'XGBoost__learning_rate': scipy.stats.uniform(0.01, 0.19),\n",
    "    'XGBoost__n_estimators': scipy.stats.randint(50, 150),\n",
    "    'XGBoost__max_depth': scipy.stats.randint(4, 8),\n",
    "    'XGBoost__colsample_bytree': scipy.stats.uniform(0.4, 0.4),\n",
    "    'XGBoost__gamma' : scipy.stats.randint(3, 6),\n",
    "    'XGBoost__min_child_weight' : scipy.stats.randint(8, 16),\n",
    "    'XGBoost__subsample' : scipy.stats.uniform(0.4, 0.4),\n",
    "}"
   ]
  },
  {
   "cell_type": "code",
   "execution_count": null,
   "id": "094aa2cc-d559-42f9-8ef2-82574d821e3b",
   "metadata": {},
   "outputs": [],
   "source": [
    "search_spaces = {\n",
    "    'XGBoost__learning_rate': (0.01, 0.2),\n",
    "    'XGBoost__n_estimators': (50, 150),\n",
    "    'XGBoost__max_depth': (4, 8),\n",
    "    'XGBoost__colsample_bytree': (0.4, 0.6),\n",
    "    'XGBoost__gamma' : (3, 6),\n",
    "    'XGBoost__min_child_weight' : (8, 16),\n",
    "    'XGBoost__subsample' : (0.4, 0.8)\n",
    "}"
   ]
  },
  {
   "cell_type": "markdown",
   "id": "ad10af44-d920-4e9c-8ec8-7457814caa26",
   "metadata": {},
   "source": [
    "### MLP"
   ]
  },
  {
   "cell_type": "code",
   "execution_count": null,
   "id": "9587dbbf-a5f6-46d6-b998-85f83b69f9e6",
   "metadata": {},
   "outputs": [],
   "source": [
    "param_grid = {\n",
    "    'MLP__alpha': (0.001, 0.01, 0.1, 1, 10),\n",
    "    'MLP__learning_rate_init' : (0.0001, 0.001, 0.01, 0.1, 0.2)\n",
    "}\n"
   ]
  },
  {
   "cell_type": "code",
   "execution_count": null,
   "id": "d61d2dfc-a632-4b53-a90b-5b32987e9690",
   "metadata": {},
   "outputs": [],
   "source": [
    "param_dist = {\n",
    "    'MLP__alpha': scipy.stats.uniform(0.001, 9.999),\n",
    "    'MLP__learning_rate_init' : scipy.stats.uniform(0.0001, 0.1999)\n",
    "}\n"
   ]
  },
  {
   "cell_type": "code",
   "execution_count": null,
   "id": "c1216daa-cc79-4d11-8f1a-057152a008cf",
   "metadata": {},
   "outputs": [],
   "source": [
    "search_spaces = {\n",
    "    'MLP__alpha': (0.001, 10),\n",
    "    'MLP__learning_rate_init' : (0.0001, 0.01)\n",
    "}\n"
   ]
  },
  {
   "cell_type": "markdown",
   "id": "718f5c58-cb0d-4547-991a-1295d48d4fca",
   "metadata": {},
   "source": [
    "### SVC"
   ]
  },
  {
   "cell_type": "code",
   "execution_count": null,
   "id": "73ca54ba-2413-4f1a-bb1d-e6fa4154e486",
   "metadata": {},
   "outputs": [],
   "source": [
    "param_dist_SVC = {\n",
    "    'SVC__C': scipy.stats.loguniform(1e-3, 1e2),\n",
    "    'SVC__gamma': scipy.stats.loguniform(1e-3, 1e2)\n",
    "}"
   ]
  }
 ],
 "metadata": {
  "kernelspec": {
   "display_name": "Python 3 (ipykernel)",
   "language": "python",
   "name": "python3"
  },
  "language_info": {
   "codemirror_mode": {
    "name": "ipython",
    "version": 3
   },
   "file_extension": ".py",
   "mimetype": "text/x-python",
   "name": "python",
   "nbconvert_exporter": "python",
   "pygments_lexer": "ipython3",
   "version": "3.10.13"
  }
 },
 "nbformat": 4,
 "nbformat_minor": 5
}
