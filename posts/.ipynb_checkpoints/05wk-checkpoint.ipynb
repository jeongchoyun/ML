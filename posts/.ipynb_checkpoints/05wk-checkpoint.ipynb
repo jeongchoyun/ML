{
 "cells": [
  {
   "cell_type": "raw",
   "id": "328e9495-95e2-4e83-b43b-e77758f5258f",
   "metadata": {},
   "source": [
    "---\n",
    "title: \"05wk: 전처리: 데이터 형태 갖추기 - 차원 축소\"\n",
    "author: \"정초윤\"\n",
    "date: \"05/29/2024\"\n",
    "---"
   ]
  },
  {
   "cell_type": "markdown",
   "id": "ec711175-605c-4aec-8e9b-0bcd73cdeb3d",
   "metadata": {},
   "source": [
    "# Comming Soon"
   ]
  }
 ],
 "metadata": {
  "kernelspec": {
   "display_name": "Python 3 (ipykernel)",
   "language": "python",
   "name": "python3"
  },
  "language_info": {
   "codemirror_mode": {
    "name": "ipython",
    "version": 3
   },
   "file_extension": ".py",
   "mimetype": "text/x-python",
   "name": "python",
   "nbconvert_exporter": "python",
   "pygments_lexer": "ipython3",
   "version": "3.10.13"
  }
 },
 "nbformat": 4,
 "nbformat_minor": 5
}
