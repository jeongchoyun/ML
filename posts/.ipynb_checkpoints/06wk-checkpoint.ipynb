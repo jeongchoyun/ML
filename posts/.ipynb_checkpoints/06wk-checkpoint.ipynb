{
 "cells": [
  {
   "cell_type": "raw",
   "id": "3358c396-535b-4d66-8d82-850d6d8b1e86",
   "metadata": {},
   "source": [
    "---\n",
    "title: \"05wk: 전처리: 데이터 형태 갖추기 - 클래스 불균형\"\n",
    "author: \"정초윤\"\n",
    "date: \"05/29/2024\"\n",
    "---"
   ]
  },
  {
   "cell_type": "markdown",
   "id": "c1268d01-6c39-4840-9e10-92e5f45d13d9",
   "metadata": {},
   "source": [
    "# Comming Soon"
   ]
  }
 ],
 "metadata": {
  "kernelspec": {
   "display_name": "Python 3 (ipykernel)",
   "language": "python",
   "name": "python3"
  },
  "language_info": {
   "codemirror_mode": {
    "name": "ipython",
    "version": 3
   },
   "file_extension": ".py",
   "mimetype": "text/x-python",
   "name": "python",
   "nbconvert_exporter": "python",
   "pygments_lexer": "ipython3",
   "version": "3.10.13"
  }
 },
 "nbformat": 4,
 "nbformat_minor": 5
}
