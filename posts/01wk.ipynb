{
 "cells": [
  {
   "cell_type": "raw",
   "id": "8d5fb067-ea79-4f73-a8cd-da921e2ceb79",
   "metadata": {},
   "source": [
    "---\n",
    "title: \"01wk: 머신 러닝 교과서 - 파이토치편 소개\"\n",
    "author: \"정초윤\"\n",
    "date: \"05/029/2024\"\n",
    "bibliography: ref.bib\n",
    "---"
   ]
  },
  {
   "cell_type": "markdown",
   "id": "37b453cb-7097-4735-9472-ddf6a38e55c6",
   "metadata": {},
   "source": [
    "# 머신 러닝 교과서 - 파이토치편"
   ]
  },
  {
   "cell_type": "markdown",
   "id": "427908d1-ddd1-499d-bfb0-9eff8b1828cb",
   "metadata": {},
   "source": [
    "### 목차"
   ]
  },
  {
   "cell_type": "markdown",
   "id": "3b9c3758-2440-4bfe-a79d-066c9388662f",
   "metadata": {},
   "source": [
    "- 데이터를 지식으로 바꾸는 지능적인 시스템 구축\n",
    "- 머신 러닝의 세 가지 종류\n",
    "    - 지도 학습으로 미래 예측\n",
    "        - 분류: 클래스 레이블 예측\n",
    "        - 회귀: 연속적인 출력 값 예측\n",
    "    - 강화 학습으로 반응형 문제 해결\n",
    "    - 비지도 학습으로 숨겨진 구조 발견\n",
    "        - 군집: 서브그룹 찾기\n",
    "        - 차원 축소: 데이터 압축\n",
    "- 머신 러닝 시스템 구축 로드맵\n",
    "    - 전처리: 데이터 형태 갖추기\n",
    "    - 예측 모델 훈련과 선택\n",
    "    - 예측"
   ]
  },
  {
   "cell_type": "code",
   "execution_count": 4,
   "id": "a2613e99-ba72-4981-b29c-712cb65bf63b",
   "metadata": {},
   "outputs": [],
   "source": [
    "from IPython.display import Image"
   ]
  },
  {
   "cell_type": "markdown",
   "id": "9371c231-90b0-4eba-9263-64786896daa0",
   "metadata": {},
   "source": [
    "# 데이터를 지식으로 바꾸는 지능적인 시스템 구축"
   ]
  },
  {
   "cell_type": "markdown",
   "id": "346facfd-85c0-478a-8a77-82fbe55f038a",
   "metadata": {},
   "source": [
    "# 머신 러닝의 세 가지 종류\n"
   ]
  },
  {
   "cell_type": "code",
   "execution_count": 5,
   "id": "bbc73177-7231-42bb-ba11-aaf580e2884f",
   "metadata": {},
   "outputs": [
    {
     "data": {
      "text/html": [
       "<img src=\"https://raw.githubusercontent.com/rickiepark/ml-with-pytorch/main/ch01/figures/01_01.png\" width=\"500\"/>"
      ],
      "text/plain": [
       "<IPython.core.display.Image object>"
      ]
     },
     "execution_count": 5,
     "metadata": {},
     "output_type": "execute_result"
    }
   ],
   "source": [
    "Image(url='https://raw.githubusercontent.com/rickiepark/ml-with-pytorch/main/ch01/figures/01_01.png', width=500)"
   ]
  },
  {
   "cell_type": "markdown",
   "id": "c80c9083-1733-4749-97f1-60bf7bf97d9f",
   "metadata": {},
   "source": [
    "## 지도 학습으로 미래 예측\n"
   ]
  },
  {
   "cell_type": "markdown",
   "id": "7d4380a8-0a2b-4f7f-9c72-de8252310357",
   "metadata": {},
   "source": [
    "- 데이터 입력과 레이블 사이의 관계를 모델링하는 과정"
   ]
  },
  {
   "cell_type": "code",
   "execution_count": 6,
   "id": "e2b510a3-9a5a-4377-9518-b97d6b90ba2f",
   "metadata": {},
   "outputs": [
    {
     "data": {
      "text/html": [
       "<img src=\"https://raw.githubusercontent.com/rickiepark/ml-with-pytorch/main/ch01/figures/01_02.png\" width=\"500\"/>"
      ],
      "text/plain": [
       "<IPython.core.display.Image object>"
      ]
     },
     "execution_count": 6,
     "metadata": {},
     "output_type": "execute_result"
    }
   ],
   "source": [
    "Image(url='https://raw.githubusercontent.com/rickiepark/ml-with-pytorch/main/ch01/figures/01_02.png', width=500)"
   ]
  },
  {
   "cell_type": "markdown",
   "id": "c16a1262-b738-45c3-bf6b-1e48be5adfd8",
   "metadata": {},
   "source": [
    "### 분류: 클래스 레이블 예측"
   ]
  },
  {
   "cell_type": "code",
   "execution_count": 8,
   "id": "40b2002c-e8b1-427c-871a-1a526bf7099f",
   "metadata": {},
   "outputs": [
    {
     "data": {
      "text/html": [
       "<img src=\"https://raw.githubusercontent.com/rickiepark/ml-with-pytorch/main/ch01/figures/01_03.png\" width=\"300\"/>"
      ],
      "text/plain": [
       "<IPython.core.display.Image object>"
      ]
     },
     "execution_count": 8,
     "metadata": {},
     "output_type": "execute_result"
    }
   ],
   "source": [
    "Image(url='https://raw.githubusercontent.com/rickiepark/ml-with-pytorch/main/ch01/figures/01_03.png', width=300)"
   ]
  },
  {
   "cell_type": "markdown",
   "id": "ed737b36-bb6d-4a37-b9e4-1e62c5d0065e",
   "metadata": {},
   "source": [
    "### 회귀: 연속적인 출력 값 예측"
   ]
  },
  {
   "cell_type": "code",
   "execution_count": 9,
   "id": "478bd11c-09ea-4e53-a518-37a67ab180e1",
   "metadata": {},
   "outputs": [
    {
     "data": {
      "text/html": [
       "<img src=\"https://raw.githubusercontent.com/rickiepark/ml-with-pytorch/main/ch01/figures/01_04.png\" width=\"300\"/>"
      ],
      "text/plain": [
       "<IPython.core.display.Image object>"
      ]
     },
     "execution_count": 9,
     "metadata": {},
     "output_type": "execute_result"
    }
   ],
   "source": [
    "Image(url='https://raw.githubusercontent.com/rickiepark/ml-with-pytorch/main/ch01/figures/01_04.png', width=300)"
   ]
  },
  {
   "cell_type": "markdown",
   "id": "d2b84bee-76be-4cae-9db4-4b810b7fb44f",
   "metadata": {},
   "source": [
    "## 강화 학습으로 반응형 문제 해결\n"
   ]
  },
  {
   "cell_type": "markdown",
   "id": "c0cd378d-2181-40c0-865b-4989259ad6f6",
   "metadata": {},
   "source": [
    "- 환경과 상호 작용하여 에이전트 성능 향상 목적"
   ]
  },
  {
   "cell_type": "code",
   "execution_count": 10,
   "id": "d203c248-c553-491a-8bac-f482bbe50e94",
   "metadata": {},
   "outputs": [
    {
     "data": {
      "text/html": [
       "<img src=\"https://raw.githubusercontent.com/rickiepark/ml-with-pytorch/main/ch01/figures/01_05.png\" width=\"300\"/>"
      ],
      "text/plain": [
       "<IPython.core.display.Image object>"
      ]
     },
     "execution_count": 10,
     "metadata": {},
     "output_type": "execute_result"
    }
   ],
   "source": [
    "Image(url='https://raw.githubusercontent.com/rickiepark/ml-with-pytorch/main/ch01/figures/01_05.png', width=300)"
   ]
  },
  {
   "cell_type": "markdown",
   "id": "f2db407c-1a78-4e1b-b1f8-dbab91f065c8",
   "metadata": {},
   "source": [
    "- 예) 체스 게임\n",
    "  - 체스판의 상태(환경)에 따라 기물의 이동 결정.\n",
    "  - 기물의 이동의 결과는 각기 다른 환경 상태. (어떤 움직임은 승리로 이어질 가능성이 높고 어떤 움직임은 패배로 이어질 가능성이 높음).\n",
    "  - 보상은 게임을 종료했을 때 승리하거나 패배로 정의.\n",
    "  - 기물 이동(행동)을 수행하여 얻어진 피드백을 통해 전체 보상을 최대화."
   ]
  },
  {
   "cell_type": "markdown",
   "id": "a8b9c6d7-aaa9-4533-9890-e27991b0b829",
   "metadata": {},
   "source": [
    "## 비지도 학습으로 숨겨진 구조 발견\n"
   ]
  },
  {
   "cell_type": "markdown",
   "id": "cb4b99c9-a301-4a84-99c0-1b053b8cb072",
   "metadata": {},
   "source": [
    "- 레이블되지 않거나 구조를 알 수 없는 데이터에서 정보 추출."
   ]
  },
  {
   "cell_type": "markdown",
   "id": "903eca93-9ae5-4c30-8cab-2d2119a7921f",
   "metadata": {},
   "source": [
    "### 군집: 서브그룹 찾기\n"
   ]
  },
  {
   "cell_type": "code",
   "execution_count": 11,
   "id": "f3832051-2cd4-4cb9-815c-520da24c42a3",
   "metadata": {},
   "outputs": [
    {
     "data": {
      "text/html": [
       "<img src=\"https://raw.githubusercontent.com/rickiepark/ml-with-pytorch/main/ch01/figures/01_06.png\" width=\"300\"/>"
      ],
      "text/plain": [
       "<IPython.core.display.Image object>"
      ]
     },
     "execution_count": 11,
     "metadata": {},
     "output_type": "execute_result"
    }
   ],
   "source": [
    "Image(url='https://raw.githubusercontent.com/rickiepark/ml-with-pytorch/main/ch01/figures/01_06.png', width=300)"
   ]
  },
  {
   "cell_type": "markdown",
   "id": "51f1bb69-b449-4764-81b2-f23e53106b73",
   "metadata": {},
   "source": [
    "- 관심사를 기반으로 고객을 그룹으로 나누어 각각에 맞는 마케팅"
   ]
  },
  {
   "cell_type": "markdown",
   "id": "92d34858-3dda-4779-85da-d980d034c1f7",
   "metadata": {},
   "source": [
    "### 차원 축소: 데이터 압축\n"
   ]
  },
  {
   "cell_type": "code",
   "execution_count": 12,
   "id": "3316ef0c-256f-480b-98e0-529c2972d7ff",
   "metadata": {},
   "outputs": [
    {
     "data": {
      "text/html": [
       "<img src=\"https://raw.githubusercontent.com/rickiepark/ml-with-pytorch/main/ch01/figures/01_07.png\" width=\"500\"/>"
      ],
      "text/plain": [
       "<IPython.core.display.Image object>"
      ]
     },
     "execution_count": 12,
     "metadata": {},
     "output_type": "execute_result"
    }
   ],
   "source": [
    "Image(url='https://raw.githubusercontent.com/rickiepark/ml-with-pytorch/main/ch01/figures/01_07.png', width=500)"
   ]
  },
  {
   "cell_type": "markdown",
   "id": "f766492f-8ee4-4072-a549-21a88fe59139",
   "metadata": {},
   "source": [
    "- 잡음 데이터를 제거하기 위해 전처리 단계에서 적용."
   ]
  },
  {
   "cell_type": "markdown",
   "id": "199d99d4-699a-4314-af42-609edffcbbf1",
   "metadata": {},
   "source": [
    "# 머신 러닝 시스템 구축 로드맵\n"
   ]
  },
  {
   "cell_type": "code",
   "execution_count": 16,
   "id": "ba86d3f0-9aeb-4941-a2c4-4c9cc3f13400",
   "metadata": {},
   "outputs": [
    {
     "data": {
      "text/html": [
       "<img src=\"https://raw.githubusercontent.com/rickiepark/ml-with-pytorch/main/ch01/figures/01_09.png\" width=\"700\"/>"
      ],
      "text/plain": [
       "<IPython.core.display.Image object>"
      ]
     },
     "execution_count": 16,
     "metadata": {},
     "output_type": "execute_result"
    }
   ],
   "source": [
    "Image(url='https://raw.githubusercontent.com/rickiepark/ml-with-pytorch/main/ch01/figures/01_09.png', width=700)"
   ]
  },
  {
   "cell_type": "markdown",
   "id": "d24ba2c8-ee8e-45a6-8f25-bbcebd2f7c6d",
   "metadata": {},
   "source": [
    "## 전처리: 데이터 형태 갖추기\n"
   ]
  },
  {
   "cell_type": "markdown",
   "id": "43938ff9-4291-4636-ac6c-46d4db8c20d6",
   "metadata": {},
   "source": [
    "- 결측치 대체"
   ]
  },
  {
   "cell_type": "markdown",
   "id": "8e94390f-007e-49b0-9761-26b758bb8ffb",
   "metadata": {},
   "source": [
    "- 훈련 셋 테스트 셋 나누기\n",
    "  - 새로운 데이터에서도 잘 일반화되는지 확인\n",
    "  - 훈련 셋으로 머신 러닝 모델 훈련하고 최적화\n",
    "  - 테스트 셋으로 최종 모델 평가"
   ]
  },
  {
   "cell_type": "markdown",
   "id": "6590da1e-aa39-438d-9734-62624fc19306",
   "metadata": {},
   "source": [
    "- 표준화 및 정규화\n",
    "  - 스케일에 민감한 머신 러닝 알고리즘 (선형모형, SVM, XGBoost 등)은 같은 단위로 맞춰주어야함.\n",
    "  - 트리 기반 모형은 스케일에 민감하지 않음.\n",
    "  - 전체 데이터 표준화보다 훈련 셋으로 표준화 진행하고 그 기준에 맞게 테스트 셋도 표준화."
   ]
  },
  {
   "cell_type": "markdown",
   "id": "d125cf58-d798-4108-8d2e-f3344609d425",
   "metadata": {},
   "source": [
    "- 차원 축소\n",
    "  - 특성 간 상관관계가 높거나 관련 없는 특성 (또는 잡음)이 매우 많을 경우 사용"
   ]
  },
  {
   "cell_type": "markdown",
   "id": "8862e756-11bd-40c5-90fd-01ef12f78cc5",
   "metadata": {},
   "source": [
    "## 예측 모델 훈련과 선택\n"
   ]
  },
  {
   "cell_type": "markdown",
   "id": "c36c2fb1-6e5d-4972-8fbc-4f1e825ab019",
   "metadata": {},
   "source": [
    "- 교차 검증 셋으로 훈련 모델 평가 및 과적합 해소"
   ]
  },
  {
   "cell_type": "markdown",
   "id": "31581968-3d3a-4e23-90cc-4ed39a501d8a",
   "metadata": {},
   "source": [
    "- 하이퍼파라미터 튜닝\n",
    "    - 그리드 서치\n",
    "    - 랜덤 서치\n",
    "    - 베이지안 최적화"
   ]
  },
  {
   "cell_type": "markdown",
   "id": "aeddf232-4b4a-4e8a-9636-b197b8f3d57a",
   "metadata": {},
   "source": [
    "- 위 두가지 방법으로 최적의 머신 러닝 모델 평가 지표 점수 비교"
   ]
  },
  {
   "cell_type": "markdown",
   "id": "6d9a1acd-35d9-4d5b-af60-0aed937940b8",
   "metadata": {},
   "source": [
    "## 예측\n"
   ]
  },
  {
   "cell_type": "markdown",
   "id": "27f70747-8db4-4620-9962-c53c5f2d2905",
   "metadata": {},
   "source": [
    "- 훈련 셋에서 최적의 모델을 선택한 후에 테스트 셋 예측"
   ]
  }
 ],
 "metadata": {
  "kernelspec": {
   "display_name": "Python 3 (ipykernel)",
   "language": "python",
   "name": "python3"
  },
  "language_info": {
   "codemirror_mode": {
    "name": "ipython",
    "version": 3
   },
   "file_extension": ".py",
   "mimetype": "text/x-python",
   "name": "python",
   "nbconvert_exporter": "python",
   "pygments_lexer": "ipython3",
   "version": "3.10.13"
  }
 },
 "nbformat": 4,
 "nbformat_minor": 5
}
