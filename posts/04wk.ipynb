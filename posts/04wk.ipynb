{
 "cells": [
  {
   "cell_type": "raw",
   "id": "0a9e5964-dabe-48ef-91fd-fc5b9bb5e2a9",
   "metadata": {},
   "source": [
    "---\n",
    "title: \"04wk: 전처리: 데이터 형태 갖추기 - scaler\"\n",
    "author: \"정초윤\"\n",
    "date: \"05/29/2024\"\n",
    "bibliography: ref.bib\n",
    "---"
   ]
  },
  {
   "cell_type": "markdown",
   "id": "54bc633b-fef3-4859-8849-ba676449ad42",
   "metadata": {},
   "source": [
    "# 1. 스케일 조정"
   ]
  },
  {
   "cell_type": "markdown",
   "id": "310a5dcd-5297-4598-bbc0-b029bf6c82a7",
   "metadata": {},
   "source": [
    "- 의사나무결정 기반 알고리즘은 스케일 조정에 영향을 받지 않음.\n",
    "- 경사하강법 알고리즘을 구현하는 대부분의 머신 러닝과 최적화 알고리즘은 특성의 스케일이 같을 때 훨씬 성능이 좋아짐.\n",
    "- 단위가 다른 변수들의 중요도를 더 쉽게 파악하기 위해 모든 변수를 동일한 기준으로 전처리."
   ]
  },
  {
   "cell_type": "markdown",
   "id": "3e3681d8-8b51-4d7e-a386-664f08b0d29b",
   "metadata": {},
   "source": [
    "`-` 이유.\n",
    "- 예를들어 첫 번째 특성이 1에서 10 사이 스케일을 가지고 있고 두 번째 특성은 1에서 10만 사이 스케일을 가진다고 가정\n",
    "    - `아달린에서 제곱 오차 함수를 이용한 알고리즘`은 대부분 두 번째 특성의 큰 오차에 맞추어 가중치를 최적화.\n",
    "- `유클리드 거리 지표`를 사용한 k-최근접 이웃인 경우 샘플 간의 거리를 계산하면 두 번째 특성 축에 좌우될 것."
   ]
  },
  {
   "cell_type": "markdown",
   "id": "1f0bcdf1-a56b-4627-b6a1-2502a0c7aa77",
   "metadata": {},
   "source": [
    "`-` 스케일 조정 대표적인 방법  \n",
    "- `정규화` (normalization)  \n",
    "- `표준화` (standardization)"
   ]
  },
  {
   "cell_type": "markdown",
   "id": "efb8154f-27db-471b-89ce-b2d9bef790fc",
   "metadata": {},
   "source": [
    "A. **정규화**:\n",
    "   - MinMaxScaling 변환의 특별한 경우 \n",
    "   - **작동 원리**: 데이터를 0과 1 사이의 값으로 조정\n",
    "   - **장점**: 원하는 범위 내로 데이터를 조정할 때 유용. 특히 신경망에서는 활성화 함수의 범위와 일치하도록 입력 값을 조정하는 데 유용. [sigmoid, tanh와 같은 활성화 함수의 출력값과 맞추는 용도]\n",
    "   - **단점**: 이상치에 매우 민감하다. 이상치 때문에 전체 데이터의 스케일이 크게 영향받을 수 있음."
   ]
  },
  {
   "cell_type": "markdown",
   "id": "ef8853bb-4045-4de0-b0ce-876bf80e7412",
   "metadata": {},
   "source": [
    "B. **표준화**:\n",
    "   - `StandardScaler`\n",
    "   - **작동 원리**: 데이터의 평균을 0, 표준편차를 1로 만드는 방식으로 조정.\n",
    "   - **장점**: 가중치를 0 또는 0에 가까운 작은 난수로 초기화하여 가중치를 더 쉽게 학습 할 수 있음, 이상치에 MinMaxScaler보다 덜 민감함. 많은 통계적 기법들, 특히 PCA 같은 선형 알고리즘(경사 하강법 같은 최적화 알고리즘)에서 잘 작동함.\n",
    "   - **단점**: MinMaxScaler와 달리, 표준화된 데이터의 값이 특정 범위 내에 있음을 보장하지 않음."
   ]
  },
  {
   "cell_type": "markdown",
   "id": "d622ea98-22a1-45e5-9fe2-1421a33406d7",
   "metadata": {},
   "source": [
    "`-` **둘 중 어느 것을 선택할지 결정하기 위한 고려사항**:\n",
    "\n",
    "\n",
    "- 이상치가 많으면 `StandardScaler`가 더 적합할 수 있다. \n",
    "- 모델의 알고리즘과 특성에 따라 선택해야 한다. 예를 들어, 신경망은 일반적으로 0과 1 사이의 값이나 -1과 1 사이의 값으로 입력을 받는 활성화 함수를 사용하므로 `MinMaxScaler`가 적합할 수 있다. \n",
    "\n",
    "결론적으로, 두 스케일링 방법 중 어느 것이 더 좋은지는 사용 사례와 데이터의 특성에 따라 다르기 때문에, 가능한 경우 둘 다 시도해보고 모델의 성능을 비교하는 것이 좋다. "
   ]
  },
  {
   "cell_type": "markdown",
   "id": "422e1a87-fd83-47c8-a655-9837e5b3483e",
   "metadata": {},
   "source": [
    "# 데이터"
   ]
  },
  {
   "cell_type": "markdown",
   "id": "5ede6b30-e413-4389-b045-ffc34a00a1f9",
   "metadata": {},
   "source": [
    "- 데이터 출처\n",
    "  - https://www.kaggle.com/datasets/fedesoriano/stroke-prediction-dataset/data"
   ]
  },
  {
   "cell_type": "code",
   "execution_count": 2,
   "id": "da265a77-29d8-45a0-ae05-6e460bfb915f",
   "metadata": {},
   "outputs": [],
   "source": [
    "import pandas as pd"
   ]
  },
  {
   "cell_type": "code",
   "execution_count": 34,
   "id": "e30743fe-35e6-4a33-b40a-fde56c161582",
   "metadata": {},
   "outputs": [
    {
     "data": {
      "text/html": [
       "<div>\n",
       "<style scoped>\n",
       "    .dataframe tbody tr th:only-of-type {\n",
       "        vertical-align: middle;\n",
       "    }\n",
       "\n",
       "    .dataframe tbody tr th {\n",
       "        vertical-align: top;\n",
       "    }\n",
       "\n",
       "    .dataframe thead th {\n",
       "        text-align: right;\n",
       "    }\n",
       "</style>\n",
       "<table border=\"1\" class=\"dataframe\">\n",
       "  <thead>\n",
       "    <tr style=\"text-align: right;\">\n",
       "      <th></th>\n",
       "      <th>gender</th>\n",
       "      <th>age</th>\n",
       "      <th>hypertension</th>\n",
       "      <th>heart_disease</th>\n",
       "      <th>ever_married</th>\n",
       "      <th>work_type</th>\n",
       "      <th>Residence_type</th>\n",
       "      <th>avg_glucose_level</th>\n",
       "      <th>bmi</th>\n",
       "      <th>smoking_status</th>\n",
       "      <th>stroke</th>\n",
       "    </tr>\n",
       "  </thead>\n",
       "  <tbody>\n",
       "    <tr>\n",
       "      <th>0</th>\n",
       "      <td>Male</td>\n",
       "      <td>67.0</td>\n",
       "      <td>No</td>\n",
       "      <td>Yes</td>\n",
       "      <td>Yes</td>\n",
       "      <td>Private</td>\n",
       "      <td>Urban</td>\n",
       "      <td>228.69</td>\n",
       "      <td>36.6</td>\n",
       "      <td>formerly smoked</td>\n",
       "      <td>Yes</td>\n",
       "    </tr>\n",
       "    <tr>\n",
       "      <th>1</th>\n",
       "      <td>Female</td>\n",
       "      <td>61.0</td>\n",
       "      <td>No</td>\n",
       "      <td>No</td>\n",
       "      <td>Yes</td>\n",
       "      <td>Self-employed</td>\n",
       "      <td>Rural</td>\n",
       "      <td>202.21</td>\n",
       "      <td>NaN</td>\n",
       "      <td>never smoked</td>\n",
       "      <td>Yes</td>\n",
       "    </tr>\n",
       "    <tr>\n",
       "      <th>2</th>\n",
       "      <td>Male</td>\n",
       "      <td>80.0</td>\n",
       "      <td>No</td>\n",
       "      <td>Yes</td>\n",
       "      <td>Yes</td>\n",
       "      <td>Private</td>\n",
       "      <td>Rural</td>\n",
       "      <td>105.92</td>\n",
       "      <td>32.5</td>\n",
       "      <td>never smoked</td>\n",
       "      <td>Yes</td>\n",
       "    </tr>\n",
       "    <tr>\n",
       "      <th>3</th>\n",
       "      <td>Female</td>\n",
       "      <td>49.0</td>\n",
       "      <td>No</td>\n",
       "      <td>No</td>\n",
       "      <td>Yes</td>\n",
       "      <td>Private</td>\n",
       "      <td>Urban</td>\n",
       "      <td>171.23</td>\n",
       "      <td>34.4</td>\n",
       "      <td>smokes</td>\n",
       "      <td>Yes</td>\n",
       "    </tr>\n",
       "    <tr>\n",
       "      <th>4</th>\n",
       "      <td>Female</td>\n",
       "      <td>79.0</td>\n",
       "      <td>Yes</td>\n",
       "      <td>No</td>\n",
       "      <td>Yes</td>\n",
       "      <td>Self-employed</td>\n",
       "      <td>Rural</td>\n",
       "      <td>174.12</td>\n",
       "      <td>24.0</td>\n",
       "      <td>never smoked</td>\n",
       "      <td>Yes</td>\n",
       "    </tr>\n",
       "  </tbody>\n",
       "</table>\n",
       "</div>"
      ],
      "text/plain": [
       "   gender   age hypertension heart_disease ever_married      work_type  \\\n",
       "0    Male  67.0           No           Yes          Yes        Private   \n",
       "1  Female  61.0           No            No          Yes  Self-employed   \n",
       "2    Male  80.0           No           Yes          Yes        Private   \n",
       "3  Female  49.0           No            No          Yes        Private   \n",
       "4  Female  79.0          Yes            No          Yes  Self-employed   \n",
       "\n",
       "  Residence_type  avg_glucose_level   bmi   smoking_status stroke  \n",
       "0          Urban             228.69  36.6  formerly smoked    Yes  \n",
       "1          Rural             202.21   NaN     never smoked    Yes  \n",
       "2          Rural             105.92  32.5     never smoked    Yes  \n",
       "3          Urban             171.23  34.4           smokes    Yes  \n",
       "4          Rural             174.12  24.0     never smoked    Yes  "
      ]
     },
     "execution_count": 34,
     "metadata": {},
     "output_type": "execute_result"
    }
   ],
   "source": [
    "data = pd.read_csv(\"healthcare-dataset-stroke-data.csv\")\n",
    "data = data.drop(['id'], axis=1)\n",
    "data = data[data['gender'] != 'Other']\n",
    "data.head()\n",
    "\n",
    "df = data.copy()\n",
    "df.loc[:, [\"hypertension\", \"heart_disease\", \"stroke\"]] = data.loc[:, [\"hypertension\", \"heart_disease\", \"stroke\"]].applymap(lambda x: \"Yes\" if x == 1 else \"No\")\n",
    "df.head()"
   ]
  },
  {
   "cell_type": "markdown",
   "id": "75cd4787-9239-4335-9f2b-f95d2a666939",
   "metadata": {},
   "source": [
    "# 2. 실습"
   ]
  },
  {
   "cell_type": "markdown",
   "id": "50a93a03-1f18-4c9e-ab11-eef8a88fce8e",
   "metadata": {},
   "source": [
    "## A. 표준화"
   ]
  },
  {
   "cell_type": "code",
   "execution_count": 12,
   "id": "1d0faf52-04cc-413c-9036-5225184e6e81",
   "metadata": {},
   "outputs": [],
   "source": [
    "from sklearn.preprocessing import LabelEncoder\n",
    "X = df.drop([\"stroke\"], axis=1)\n",
    "y = LabelEncoder().fit_transform(df['stroke'])"
   ]
  },
  {
   "cell_type": "code",
   "execution_count": 15,
   "id": "473502f0-df46-48a6-8d19-99de701b3cc5",
   "metadata": {},
   "outputs": [
    {
     "data": {
      "text/html": [
       "<style>#sk-container-id-1 {color: black;background-color: white;}#sk-container-id-1 pre{padding: 0;}#sk-container-id-1 div.sk-toggleable {background-color: white;}#sk-container-id-1 label.sk-toggleable__label {cursor: pointer;display: block;width: 100%;margin-bottom: 0;padding: 0.3em;box-sizing: border-box;text-align: center;}#sk-container-id-1 label.sk-toggleable__label-arrow:before {content: \"▸\";float: left;margin-right: 0.25em;color: #696969;}#sk-container-id-1 label.sk-toggleable__label-arrow:hover:before {color: black;}#sk-container-id-1 div.sk-estimator:hover label.sk-toggleable__label-arrow:before {color: black;}#sk-container-id-1 div.sk-toggleable__content {max-height: 0;max-width: 0;overflow: hidden;text-align: left;background-color: #f0f8ff;}#sk-container-id-1 div.sk-toggleable__content pre {margin: 0.2em;color: black;border-radius: 0.25em;background-color: #f0f8ff;}#sk-container-id-1 input.sk-toggleable__control:checked~div.sk-toggleable__content {max-height: 200px;max-width: 100%;overflow: auto;}#sk-container-id-1 input.sk-toggleable__control:checked~label.sk-toggleable__label-arrow:before {content: \"▾\";}#sk-container-id-1 div.sk-estimator input.sk-toggleable__control:checked~label.sk-toggleable__label {background-color: #d4ebff;}#sk-container-id-1 div.sk-label input.sk-toggleable__control:checked~label.sk-toggleable__label {background-color: #d4ebff;}#sk-container-id-1 input.sk-hidden--visually {border: 0;clip: rect(1px 1px 1px 1px);clip: rect(1px, 1px, 1px, 1px);height: 1px;margin: -1px;overflow: hidden;padding: 0;position: absolute;width: 1px;}#sk-container-id-1 div.sk-estimator {font-family: monospace;background-color: #f0f8ff;border: 1px dotted black;border-radius: 0.25em;box-sizing: border-box;margin-bottom: 0.5em;}#sk-container-id-1 div.sk-estimator:hover {background-color: #d4ebff;}#sk-container-id-1 div.sk-parallel-item::after {content: \"\";width: 100%;border-bottom: 1px solid gray;flex-grow: 1;}#sk-container-id-1 div.sk-label:hover label.sk-toggleable__label {background-color: #d4ebff;}#sk-container-id-1 div.sk-serial::before {content: \"\";position: absolute;border-left: 1px solid gray;box-sizing: border-box;top: 0;bottom: 0;left: 50%;z-index: 0;}#sk-container-id-1 div.sk-serial {display: flex;flex-direction: column;align-items: center;background-color: white;padding-right: 0.2em;padding-left: 0.2em;position: relative;}#sk-container-id-1 div.sk-item {position: relative;z-index: 1;}#sk-container-id-1 div.sk-parallel {display: flex;align-items: stretch;justify-content: center;background-color: white;position: relative;}#sk-container-id-1 div.sk-item::before, #sk-container-id-1 div.sk-parallel-item::before {content: \"\";position: absolute;border-left: 1px solid gray;box-sizing: border-box;top: 0;bottom: 0;left: 50%;z-index: -1;}#sk-container-id-1 div.sk-parallel-item {display: flex;flex-direction: column;z-index: 1;position: relative;background-color: white;}#sk-container-id-1 div.sk-parallel-item:first-child::after {align-self: flex-end;width: 50%;}#sk-container-id-1 div.sk-parallel-item:last-child::after {align-self: flex-start;width: 50%;}#sk-container-id-1 div.sk-parallel-item:only-child::after {width: 0;}#sk-container-id-1 div.sk-dashed-wrapped {border: 1px dashed gray;margin: 0 0.4em 0.5em 0.4em;box-sizing: border-box;padding-bottom: 0.4em;background-color: white;}#sk-container-id-1 div.sk-label label {font-family: monospace;font-weight: bold;display: inline-block;line-height: 1.2em;}#sk-container-id-1 div.sk-label-container {text-align: center;}#sk-container-id-1 div.sk-container {/* jupyter's `normalize.less` sets `[hidden] { display: none; }` but bootstrap.min.css set `[hidden] { display: none !important; }` so we also need the `!important` here to be able to override the default hidden behavior on the sphinx rendered scikit-learn.org. See: https://github.com/scikit-learn/scikit-learn/issues/21755 */display: inline-block !important;position: relative;}#sk-container-id-1 div.sk-text-repr-fallback {display: none;}</style><div id=\"sk-container-id-1\" class=\"sk-top-container\"><div class=\"sk-text-repr-fallback\"><pre>ColumnTransformer(n_jobs=-1, remainder=&#x27;passthrough&#x27;,\n",
       "                  transformers=[(&#x27;scaler&#x27;, StandardScaler(),\n",
       "                                 Index([&#x27;id&#x27;, &#x27;age&#x27;, &#x27;avg_glucose_level&#x27;, &#x27;bmi&#x27;], dtype=&#x27;object&#x27;)),\n",
       "                                (&#x27;onehot&#x27;,\n",
       "                                 OneHotEncoder(drop=&#x27;first&#x27;,\n",
       "                                               handle_unknown=&#x27;ignore&#x27;,\n",
       "                                               sparse_output=False),\n",
       "                                 Index([&#x27;gender&#x27;, &#x27;hypertension&#x27;, &#x27;heart_disease&#x27;, &#x27;ever_married&#x27;, &#x27;work_type&#x27;,\n",
       "       &#x27;Residence_type&#x27;, &#x27;smoking_status&#x27;],\n",
       "      dtype=&#x27;object&#x27;))])</pre><b>In a Jupyter environment, please rerun this cell to show the HTML representation or trust the notebook. <br />On GitHub, the HTML representation is unable to render, please try loading this page with nbviewer.org.</b></div><div class=\"sk-container\" hidden><div class=\"sk-item sk-dashed-wrapped\"><div class=\"sk-label-container\"><div class=\"sk-label sk-toggleable\"><input class=\"sk-toggleable__control sk-hidden--visually\" id=\"sk-estimator-id-1\" type=\"checkbox\" ><label for=\"sk-estimator-id-1\" class=\"sk-toggleable__label sk-toggleable__label-arrow\">ColumnTransformer</label><div class=\"sk-toggleable__content\"><pre>ColumnTransformer(n_jobs=-1, remainder=&#x27;passthrough&#x27;,\n",
       "                  transformers=[(&#x27;scaler&#x27;, StandardScaler(),\n",
       "                                 Index([&#x27;id&#x27;, &#x27;age&#x27;, &#x27;avg_glucose_level&#x27;, &#x27;bmi&#x27;], dtype=&#x27;object&#x27;)),\n",
       "                                (&#x27;onehot&#x27;,\n",
       "                                 OneHotEncoder(drop=&#x27;first&#x27;,\n",
       "                                               handle_unknown=&#x27;ignore&#x27;,\n",
       "                                               sparse_output=False),\n",
       "                                 Index([&#x27;gender&#x27;, &#x27;hypertension&#x27;, &#x27;heart_disease&#x27;, &#x27;ever_married&#x27;, &#x27;work_type&#x27;,\n",
       "       &#x27;Residence_type&#x27;, &#x27;smoking_status&#x27;],\n",
       "      dtype=&#x27;object&#x27;))])</pre></div></div></div><div class=\"sk-parallel\"><div class=\"sk-parallel-item\"><div class=\"sk-item\"><div class=\"sk-label-container\"><div class=\"sk-label sk-toggleable\"><input class=\"sk-toggleable__control sk-hidden--visually\" id=\"sk-estimator-id-2\" type=\"checkbox\" ><label for=\"sk-estimator-id-2\" class=\"sk-toggleable__label sk-toggleable__label-arrow\">scaler</label><div class=\"sk-toggleable__content\"><pre>Index([&#x27;id&#x27;, &#x27;age&#x27;, &#x27;avg_glucose_level&#x27;, &#x27;bmi&#x27;], dtype=&#x27;object&#x27;)</pre></div></div></div><div class=\"sk-serial\"><div class=\"sk-item\"><div class=\"sk-estimator sk-toggleable\"><input class=\"sk-toggleable__control sk-hidden--visually\" id=\"sk-estimator-id-3\" type=\"checkbox\" ><label for=\"sk-estimator-id-3\" class=\"sk-toggleable__label sk-toggleable__label-arrow\">StandardScaler</label><div class=\"sk-toggleable__content\"><pre>StandardScaler()</pre></div></div></div></div></div></div><div class=\"sk-parallel-item\"><div class=\"sk-item\"><div class=\"sk-label-container\"><div class=\"sk-label sk-toggleable\"><input class=\"sk-toggleable__control sk-hidden--visually\" id=\"sk-estimator-id-4\" type=\"checkbox\" ><label for=\"sk-estimator-id-4\" class=\"sk-toggleable__label sk-toggleable__label-arrow\">onehot</label><div class=\"sk-toggleable__content\"><pre>Index([&#x27;gender&#x27;, &#x27;hypertension&#x27;, &#x27;heart_disease&#x27;, &#x27;ever_married&#x27;, &#x27;work_type&#x27;,\n",
       "       &#x27;Residence_type&#x27;, &#x27;smoking_status&#x27;],\n",
       "      dtype=&#x27;object&#x27;)</pre></div></div></div><div class=\"sk-serial\"><div class=\"sk-item\"><div class=\"sk-estimator sk-toggleable\"><input class=\"sk-toggleable__control sk-hidden--visually\" id=\"sk-estimator-id-5\" type=\"checkbox\" ><label for=\"sk-estimator-id-5\" class=\"sk-toggleable__label sk-toggleable__label-arrow\">OneHotEncoder</label><div class=\"sk-toggleable__content\"><pre>OneHotEncoder(drop=&#x27;first&#x27;, handle_unknown=&#x27;ignore&#x27;, sparse_output=False)</pre></div></div></div></div></div></div><div class=\"sk-parallel-item\"><div class=\"sk-item\"><div class=\"sk-label-container\"><div class=\"sk-label sk-toggleable\"><input class=\"sk-toggleable__control sk-hidden--visually\" id=\"sk-estimator-id-6\" type=\"checkbox\" ><label for=\"sk-estimator-id-6\" class=\"sk-toggleable__label sk-toggleable__label-arrow\">remainder</label><div class=\"sk-toggleable__content\"><pre></pre></div></div></div><div class=\"sk-serial\"><div class=\"sk-item\"><div class=\"sk-estimator sk-toggleable\"><input class=\"sk-toggleable__control sk-hidden--visually\" id=\"sk-estimator-id-7\" type=\"checkbox\" ><label for=\"sk-estimator-id-7\" class=\"sk-toggleable__label sk-toggleable__label-arrow\">passthrough</label><div class=\"sk-toggleable__content\"><pre>passthrough</pre></div></div></div></div></div></div></div></div></div></div>"
      ],
      "text/plain": [
       "ColumnTransformer(n_jobs=-1, remainder='passthrough',\n",
       "                  transformers=[('scaler', StandardScaler(),\n",
       "                                 Index(['id', 'age', 'avg_glucose_level', 'bmi'], dtype='object')),\n",
       "                                ('onehot',\n",
       "                                 OneHotEncoder(drop='first',\n",
       "                                               handle_unknown='ignore',\n",
       "                                               sparse_output=False),\n",
       "                                 Index(['gender', 'hypertension', 'heart_disease', 'ever_married', 'work_type',\n",
       "       'Residence_type', 'smoking_status'],\n",
       "      dtype='object'))])"
      ]
     },
     "execution_count": 15,
     "metadata": {},
     "output_type": "execute_result"
    }
   ],
   "source": [
    "from sklearn.preprocessing import StandardScaler, OneHotEncoder\n",
    "from sklearn.compose import ColumnTransformer\n",
    "scaler = StandardScaler()\n",
    "\n",
    "onehot = OneHotEncoder(drop = 'first', handle_unknown='ignore', sparse_output=False)\n",
    "\n",
    "ct = ColumnTransformer([('scaler', scaler, X.select_dtypes(include = \"number\").columns),\n",
    "                        ('onehot', onehot, X.select_dtypes(exclude = \"number\").columns)], \n",
    "                       remainder='passthrough', n_jobs=-1)\n",
    "ct"
   ]
  },
  {
   "cell_type": "markdown",
   "id": "27734bad-0fdb-400b-9332-4d41a91cf4cf",
   "metadata": {},
   "source": [
    ":::{.callout-important}   \n",
    "- **참고** \n",
    "- 앞 장에서 배운 범주형 인코딩도 같이 적용.\n",
    ":::"
   ]
  },
  {
   "cell_type": "code",
   "execution_count": 16,
   "id": "68416b1c-9df7-4d39-90f1-8d4cc0568fb5",
   "metadata": {},
   "outputs": [],
   "source": [
    "from sklearn.model_selection import train_test_split\n",
    "\n",
    "X_train, X_test, y_train, y_test = train_test_split(X, y, test_size=0.2, random_state=42, stratify=y)"
   ]
  },
  {
   "cell_type": "code",
   "execution_count": 17,
   "id": "2db85a4d-ffe5-4f84-be98-909358f773e8",
   "metadata": {},
   "outputs": [
    {
     "data": {
      "text/plain": [
       "array([[-0.5304543 ,  0.20566087, -0.8199733 , ...,  0.        ,\n",
       "         1.        ,  0.        ],\n",
       "       [ 0.33840517, -1.25490055,  0.35207477, ...,  0.        ,\n",
       "         1.        ,  0.        ],\n",
       "       [ 0.49752263,  1.04659017,  0.09066209, ...,  0.        ,\n",
       "         1.        ,  0.        ],\n",
       "       ...,\n",
       "       [-1.21472057,  0.78103355, -0.61137349, ...,  1.        ,\n",
       "         0.        ,  0.        ],\n",
       "       [-1.5443042 , -0.54674956, -0.71302171, ...,  0.        ,\n",
       "         0.        ,  0.        ],\n",
       "       [-0.22187286, -1.65323548, -0.33736527, ...,  0.        ,\n",
       "         0.        ,  0.        ]])"
      ]
     },
     "execution_count": 17,
     "metadata": {},
     "output_type": "execute_result"
    }
   ],
   "source": [
    "ct.fit_transform(X_train)"
   ]
  },
  {
   "cell_type": "code",
   "execution_count": 18,
   "id": "85cd222d-4aa2-464a-928c-1c403ce41555",
   "metadata": {},
   "outputs": [
    {
     "data": {
      "text/plain": [
       "array([[-0.5813587 ,  0.86955242, -0.62065442, ...,  0.        ,\n",
       "         1.        ,  0.        ],\n",
       "       [ 1.38719593, -0.01563631, -0.43415205, ...,  0.        ,\n",
       "         1.        ,  0.        ],\n",
       "       [ 0.73184298, -0.90082505,  0.44974544, ...,  0.        ,\n",
       "         0.        ,  1.        ],\n",
       "       ...,\n",
       "       [-0.43161218,  0.29417974, -0.31305809, ...,  0.        ,\n",
       "         1.        ,  0.        ],\n",
       "       [-0.01618329, -1.25490055, -0.96670029, ...,  0.        ,\n",
       "         1.        ,  0.        ],\n",
       "       [-0.92671751,  0.33843918, -0.50862041, ...,  1.        ,\n",
       "         0.        ,  0.        ]])"
      ]
     },
     "execution_count": 18,
     "metadata": {},
     "output_type": "execute_result"
    }
   ],
   "source": [
    "ct.transform(X_test)"
   ]
  },
  {
   "cell_type": "markdown",
   "id": "bb3d2b75-7d16-4ea8-bd2a-5eb083c3305b",
   "metadata": {},
   "source": [
    "- 표준화 공식"
   ]
  },
  {
   "cell_type": "code",
   "execution_count": 30,
   "id": "11d30b24-4dba-49ff-b312-5860da6f7b3e",
   "metadata": {},
   "outputs": [
    {
     "data": {
      "text/plain": [
       "array([-0.5304543 ,  0.33840517,  0.49752263,  0.96291411, -0.48138641])"
      ]
     },
     "execution_count": 30,
     "metadata": {},
     "output_type": "execute_result"
    }
   ],
   "source": [
    "ct.fit_transform(X_train)[:,0][:5]"
   ]
  },
  {
   "cell_type": "code",
   "execution_count": 33,
   "id": "d95bcd36-706b-4e5d-89c3-f1800acb8b75",
   "metadata": {},
   "outputs": [
    {
     "name": "stdout",
     "output_type": "stream",
     "text": [
      "standardized: [-0.5304543   0.33840517  0.49752263  0.96291411 -0.48138641]\n"
     ]
    }
   ],
   "source": [
    "ex = X_train.iloc[:,0].values\n",
    "print('standardized:', ((ex - ex.mean()) / ex.std(ddof=0))[:5])"
   ]
  },
  {
   "cell_type": "markdown",
   "id": "7c4c9f82-bf24-4d55-a22e-86b978bf50ff",
   "metadata": {},
   "source": [
    ":::{.callout-important}   \n",
    "- **참고**\n",
    "- scaler은 훈련 셋으로만 학습하고 학습된 기준으로 테스트 셋 변환.\n",
    "- `-` 스케일 변환 `.fit()`와 `.fit_transform()`은 입력으로 2차원 자료구조를 기대한다. (그중에서도 은근히 numpy array를 기대함)\n",
    ":::"
   ]
  },
  {
   "cell_type": "markdown",
   "id": "fe8205c3-57f5-43ba-aaa9-0e9eb9940b75",
   "metadata": {},
   "source": [
    "## B. 정규화"
   ]
  },
  {
   "cell_type": "code",
   "execution_count": 4,
   "id": "b1f68714-7c6c-4367-b3a9-240a0b3a4c0c",
   "metadata": {},
   "outputs": [],
   "source": [
    "from sklearn.preprocessing import MinMaxScaler"
   ]
  },
  {
   "cell_type": "code",
   "execution_count": 5,
   "id": "ff87784c-ab40-4ea7-95b6-3813b6bdc767",
   "metadata": {},
   "outputs": [],
   "source": [
    "# step 1\n",
    "mmsclr = MinMaxScaler()\n",
    "\n",
    "# step 2\n",
    "X_train_norm = mmsclr.fit_transform(X_train)\n",
    "\n",
    "# step 3\n",
    "X_test_norm = mmsclr.transform(X_test)"
   ]
  },
  {
   "cell_type": "code",
   "execution_count": 6,
   "id": "7d59fef8-54e6-48ef-834d-974627340d71",
   "metadata": {},
   "outputs": [
    {
     "data": {
      "text/plain": [
       "array([0.19400856, 0.68259629, 0.71825963, 0.58273894, 0.29743224])"
      ]
     },
     "execution_count": 6,
     "metadata": {},
     "output_type": "execute_result"
    }
   ],
   "source": [
    "X_train_norm[:, -1][:5]"
   ]
  },
  {
   "cell_type": "code",
   "execution_count": 7,
   "id": "163f49b3-d89c-4616-a412-a4aba4406ba7",
   "metadata": {},
   "outputs": [
    {
     "name": "stdout",
     "output_type": "stream",
     "text": [
      "normalized: [0.19400856 0.68259629 0.71825963 0.58273894 0.29743224]\n"
     ]
    }
   ],
   "source": [
    "ex = X_train[:, -1]\n",
    "print('normalized:', ((ex - ex.min()) / (ex.max() - ex.min()))[:5])"
   ]
  },
  {
   "cell_type": "code",
   "execution_count": 8,
   "id": "d9523349-20f3-471d-be4c-755aaeef402e",
   "metadata": {},
   "outputs": [],
   "source": [
    "# 원본화\n",
    "remmsclr = mmsclr.inverse_transform(X_train_norm).round(5)"
   ]
  },
  {
   "cell_type": "markdown",
   "id": "44304221-954b-439b-876e-1059c45ba4d4",
   "metadata": {},
   "source": [
    "## C. 다양한 scaler"
   ]
  },
  {
   "cell_type": "markdown",
   "id": "31328e80-1d18-4736-a762-1dca1e57692b",
   "metadata": {
    "jp-MarkdownHeadingCollapsed": true
   },
   "source": [
    "### 1). `RobustScaler()` "
   ]
  },
  {
   "cell_type": "code",
   "execution_count": 13,
   "id": "6bb2472f-c18f-4778-93a4-cc6127fc9ee1",
   "metadata": {},
   "outputs": [],
   "source": [
    "from sklearn.preprocessing import RobustScaler"
   ]
  },
  {
   "cell_type": "markdown",
   "id": "fdd0348d-8c71-4a46-80e4-20e9a734bd88",
   "metadata": {},
   "source": [
    "- 특성 열마다 독립적으로 작용하며 각 값을 중간 값으로 뺀 다음 (데이터셋의 3사분위수와 - 1사분위수)로 나눠서 데이터셋의 스케일 조정.\n",
    "  - 이상치가 많이 포함된 작은 데이터셋을 다룰 때 특히 도움이 됨.\n",
    "  - 또환 과대적합이 되기 쉽다면 `RobustScaler`가 좋은 선택.\n",
    "  - 극단적인 값과 이상치에 영향을 덜 받음."
   ]
  },
  {
   "cell_type": "code",
   "execution_count": 16,
   "id": "4efc09c3-8373-4682-985d-98a096756001",
   "metadata": {},
   "outputs": [],
   "source": [
    "# step 1\n",
    "rbsclr = RobustScaler()\n",
    "\n",
    "# step 2\n",
    "X_train_robust = rbsclr.fit_transform(X_train)\n",
    "\n",
    "# step 3\n",
    "X_test_robust = rbsclr.transform(X_test)"
   ]
  },
  {
   "cell_type": "code",
   "execution_count": 17,
   "id": "24318596-4251-44bc-bde4-f1bb8781b63e",
   "metadata": {},
   "outputs": [
    {
     "data": {
      "text/plain": [
       "array([-0.23094904,  1.05002338,  1.14352501,  0.78821879,  0.0402057 ])"
      ]
     },
     "execution_count": 17,
     "metadata": {},
     "output_type": "execute_result"
    }
   ],
   "source": [
    "X_train_robust[:, -1][:5]"
   ]
  },
  {
   "cell_type": "code",
   "execution_count": 18,
   "id": "0271a703-4843-4b46-b859-9015b7a76c1b",
   "metadata": {},
   "outputs": [
    {
     "name": "stdout",
     "output_type": "stream",
     "text": [
      "robust: [-0.23094904  1.05002338  1.14352501  0.78821879  0.0402057 ]\n"
     ]
    }
   ],
   "source": [
    "ex = X_train[:, -1]\n",
    "print('robust:', ((ex - np.percentile(ex, 50)) / (np.percentile(ex, 75) - np.percentile(ex, 25)))[:5])"
   ]
  },
  {
   "cell_type": "markdown",
   "id": "7a1dd3bb-e0d8-4afc-9aa9-e5c35b3e3095",
   "metadata": {
    "jp-MarkdownHeadingCollapsed": true
   },
   "source": [
    "### 2) MaxAbsScaler()"
   ]
  },
  {
   "cell_type": "code",
   "execution_count": null,
   "id": "92de38ea-1b4a-4260-97d4-7c2fc91ce2af",
   "metadata": {},
   "outputs": [],
   "source": [
    "from sklearn.preprocessing import MaxAbsScaler"
   ]
  },
  {
   "cell_type": "markdown",
   "id": "3b9a816e-741e-4e63-907a-df5449f949a3",
   "metadata": {},
   "source": [
    "- 각 특성별로 데이터를 최대 절댓값으로 나눔. 따라서 각 특성의 최댓값은 1이며 [-1,1] 범위.\n",
    "- 데이터를 중앙에 맞추지 않으므로 희소행렬 사용 가능 "
   ]
  },
  {
   "cell_type": "code",
   "execution_count": null,
   "id": "f0024b6a-fb51-4d0f-a7f0-beafbac26d22",
   "metadata": {},
   "outputs": [],
   "source": [
    "# step 1\n",
    "masclr = MaxAbsScaler()\n",
    "\n",
    "# step 2\n",
    "X_train_maxabs = masclr.fit_transform(X_train)\n",
    "\n",
    "# step 3\n",
    "X_test_maxabs = masclr.transform(X_test)"
   ]
  },
  {
   "cell_type": "code",
   "execution_count": null,
   "id": "477f04d8-b6da-4fa9-96f3-4c6ba9b2ae90",
   "metadata": {},
   "outputs": [],
   "source": [
    "X_train_maxabs[:, -1][:5]"
   ]
  },
  {
   "cell_type": "code",
   "execution_count": null,
   "id": "818a07ad-9691-4cfc-a97c-27d47da1d67e",
   "metadata": {},
   "outputs": [],
   "source": [
    "ex = X_train[:, -1]\n",
    "print('MaxAbsScaler:', (ex / np.max(np.abs(ex)))[:5])"
   ]
  },
  {
   "cell_type": "markdown",
   "id": "21ebd7f7-959d-4d30-8af7-c2bdd3cb3cd6",
   "metadata": {
    "jp-MarkdownHeadingCollapsed": true
   },
   "source": [
    "### 3) `Normalizer()`"
   ]
  },
  {
   "cell_type": "code",
   "execution_count": null,
   "id": "3de0ceb3-5c97-4a8b-a767-2f5e8de1fa29",
   "metadata": {},
   "outputs": [],
   "source": [
    "from sklearn.preprocessing import Normalizer"
   ]
  },
  {
   "cell_type": "markdown",
   "id": "4160ca8c-f873-4de1-b1e9-af26e05bc316",
   "metadata": {},
   "source": [
    "- 특성별이 아닌 샘플별로 정규화 수행. 또한 희소 행렬도 처리 가능. 기본적으로 각 샘플의 L2노름이 1이 되도록 정규화."
   ]
  },
  {
   "cell_type": "code",
   "execution_count": null,
   "id": "5f7e9783-4656-4bb7-824c-13890d015cc5",
   "metadata": {},
   "outputs": [],
   "source": [
    "# step 1\n",
    "nrmsclr = Normalizer() # default: norm = 'l2', 'l1', 'max' \n",
    "\n",
    "# step 2\n",
    "X_train_l2 = nrmsclr.fit_transform(X_train)\n",
    "\n",
    "# step 3\n",
    "X_test_l2 = nrmsclr.transform(X_test)"
   ]
  },
  {
   "cell_type": "code",
   "execution_count": null,
   "id": "53c18857-fc22-4984-865c-1c140f1ad677",
   "metadata": {},
   "outputs": [],
   "source": [
    "X_train_l2[0, :].round(3)"
   ]
  },
  {
   "cell_type": "markdown",
   "id": "51bf0f5d-06a0-4a59-a736-18b8e0326c21",
   "metadata": {},
   "source": [
    "- 원래 특성을 제곱한 행을 하나 더 추가. (0 나눗셈 오류를 다루기 번거로우므로 편의상 0 제거)"
   ]
  },
  {
   "cell_type": "code",
   "execution_count": null,
   "id": "8e57b05d-d229-4218-94c6-40c518f54f4a",
   "metadata": {},
   "outputs": [],
   "source": [
    "# Normalizer는 행 기준이므로 바꿔줌\n",
    "ex = X_train[0,:]"
   ]
  },
  {
   "cell_type": "code",
   "execution_count": null,
   "id": "156c184a-ba05-4ec9-861c-3a3594e44026",
   "metadata": {},
   "outputs": [],
   "source": [
    "ex_2f = np.vstack((ex, ex**2))\n",
    "ex_2f.shape"
   ]
  },
  {
   "cell_type": "markdown",
   "id": "5181e46c-acb9-42f0-a385-edd8ec7f7324",
   "metadata": {},
   "source": [
    "- L2: 샘플별 특성의 제곱 합을 제곱근으로 나눔"
   ]
  },
  {
   "cell_type": "code",
   "execution_count": null,
   "id": "a3229e0e-c3ce-4149-b514-a8d846d659d7",
   "metadata": {},
   "outputs": [],
   "source": [
    "l2_norm = np.sqrt(np.sum(ex_2f ** 2, axis=1))\n",
    "print(l2_norm)\n",
    "(ex_2f / l2_norm.reshape(-1, 1))[0].round(3)"
   ]
  },
  {
   "cell_type": "markdown",
   "id": "da96df61-6450-49fa-bb2c-75901e1e99c9",
   "metadata": {},
   "source": [
    "- L1: 샘플별 특성의 절댓값 합으로 나눔"
   ]
  },
  {
   "cell_type": "code",
   "execution_count": null,
   "id": "b2db7d95-178a-49c6-87cb-faa646d4eb55",
   "metadata": {},
   "outputs": [],
   "source": [
    "# step 1\n",
    "nrmsclr = Normalizer(norm = 'l1') # default: norm = 'l2', 'l1', 'max' \n",
    "\n",
    "# step 2\n",
    "X_train_l1 = nrmsclr.fit_transform(X_train)\n",
    "X_train_l1[0, :].round(3)"
   ]
  },
  {
   "cell_type": "code",
   "execution_count": null,
   "id": "095d8e68-7fdb-4ad4-9d56-d64e37796316",
   "metadata": {},
   "outputs": [],
   "source": [
    "l1_norm = np.sum(np.abs(ex_2f), axis=1)\n",
    "print(l1_norm)\n",
    "(ex_2f / l1_norm.reshape(-1, 1))[0].round(3)"
   ]
  },
  {
   "cell_type": "markdown",
   "id": "ecddef56-185e-41fb-bb8f-4b6a4bc0c2ba",
   "metadata": {},
   "source": [
    "- max: 각 샘플의 최대 절댓값으로 나눔"
   ]
  },
  {
   "cell_type": "code",
   "execution_count": null,
   "id": "8d43c033-906c-4ba5-a9a8-151e87939d6b",
   "metadata": {},
   "outputs": [],
   "source": [
    "# step 1\n",
    "nrmsclr = Normalizer(norm = 'max') # default: norm = 'l2', 'l1', 'max' \n",
    "\n",
    "# step 2\n",
    "X_train_max = nrmsclr.fit_transform(X_train)\n",
    "X_train_max[0, :].round(3)"
   ]
  },
  {
   "cell_type": "code",
   "execution_count": null,
   "id": "0ebca6cb-2de6-4d93-b50e-4bc1f2643a42",
   "metadata": {},
   "outputs": [],
   "source": [
    "max_norm = np.max(np.abs(ex_2f), axis=1)\n",
    "print(max_norm)\n",
    "(ex_2f / max_norm.reshape(-1, 1))[0].round(3)"
   ]
  }
 ],
 "metadata": {
  "kernelspec": {
   "display_name": "Python 3 (ipykernel)",
   "language": "python",
   "name": "python3"
  },
  "language_info": {
   "codemirror_mode": {
    "name": "ipython",
    "version": 3
   },
   "file_extension": ".py",
   "mimetype": "text/x-python",
   "name": "python",
   "nbconvert_exporter": "python",
   "pygments_lexer": "ipython3",
   "version": "3.10.13"
  }
 },
 "nbformat": 4,
 "nbformat_minor": 5
}
