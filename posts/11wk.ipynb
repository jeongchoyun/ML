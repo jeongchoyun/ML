{
 "cells": [
  {
   "cell_type": "raw",
   "id": "41f34549-9f0b-437b-a108-8317e65f3c8f",
   "metadata": {},
   "source": [
    "---\n",
    "title: \"11wk: 예측 모델 훈련과 선택 - 평가 지표\"\n",
    "author: \"정초윤\"\n",
    "date: \"05/29/2024\"\n",
    "bibliography: ref.bib\n",
    "---"
   ]
  },
  {
   "cell_type": "markdown",
   "id": "1bc98ee1-bbf3-4b98-8c68-c59b49ea6f70",
   "metadata": {},
   "source": [
    "# Comming Soon"
   ]
  }
 ],
 "metadata": {
  "kernelspec": {
   "display_name": "Python 3 (ipykernel)",
   "language": "python",
   "name": "python3"
  },
  "language_info": {
   "codemirror_mode": {
    "name": "ipython",
    "version": 3
   },
   "file_extension": ".py",
   "mimetype": "text/x-python",
   "name": "python",
   "nbconvert_exporter": "python",
   "pygments_lexer": "ipython3",
   "version": "3.10.13"
  }
 },
 "nbformat": 4,
 "nbformat_minor": 5
}
